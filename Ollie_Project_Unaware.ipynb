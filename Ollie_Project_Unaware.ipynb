{
 "cells": [
  {
   "cell_type": "code",
   "execution_count": 1,
   "metadata": {},
   "outputs": [],
   "source": [
    "import os\n",
    "from functools import partial\n",
    "import torch\n",
    "import numpy as np\n",
    "import pandas as pd\n",
    "import seaborn as sns\n",
    "import matplotlib.pyplot as plt\n",
    "\n",
    "import pyro\n",
    "import pyro.distributions as dist\n",
    "from torch import nn\n",
    "from pyro.nn import PyroModule\n"
   ]
  },
  {
   "cell_type": "code",
   "execution_count": 13,
   "metadata": {},
   "outputs": [],
   "source": [
    "exo_dist = {\n",
    "    'Nr': dist.Bernoulli(torch.tensor(0.7)),\n",
    "    'Ns': dist.Bernoulli(torch.tensor(0.35)),\n",
    "    'Na': dist.Normal(torch.tensor(0.), torch.tensor(1.))\n",
    "}"
   ]
  },
  {
   "cell_type": "code",
   "execution_count": 14,
   "metadata": {},
   "outputs": [],
   "source": [
    "def model():\n",
    "    exo_dist = {\n",
    "        'Nr': dist.Bernoulli(torch.tensor(0.7)),\n",
    "        'Ns': dist.Bernoulli(torch.tensor(0.35)),\n",
    "        'Na': dist.Normal(torch.tensor(0.), torch.tensor(1.))\n",
    "    }\n",
    "    # sample from bernoulli 0 or 1, 0 at 70% freq (made up)\n",
    "    R = pyro.sample(\"R\", exo_dist['Nr'])\n",
    "    S = pyro.sample(\"S\", exo_dist['Ns'])\n",
    "    \n",
    "    # random gaussian dist for ability \n",
    "    A = pyro.sample(\"A\", exo_dist['Na'])\n",
    "    \n",
    "    \n",
    "    G = pyro.sample(\"G\", dist.Normal(A + 2.1 * R + 3.3 * S, 0.5))\n",
    "    \n",
    "    L = pyro.sample(\"L\", dist.Normal(A + 5.8*R + 0.7*S, 0.1))\n",
    "    \n",
    "    F = pyro.sample(\"F\", dist.Normal(A + 2.3*R + 1.*S, 0.3))\n",
    "\n",
    "trace_handler = pyro.poutine.trace(model)\n",
    "samples = pd.DataFrame(columns=['R', 'S', 'A', 'G', 'L', 'F', 'p'])"
   ]
  },
  {
   "cell_type": "markdown",
   "metadata": {},
   "source": [
    "## Unaware Model\n",
    "\n",
    "This model uses only G and L to predict FYA. It is indirectly biased because R/S affect G and L, and also affect F."
   ]
  },
  {
   "cell_type": "code",
   "execution_count": 15,
   "metadata": {},
   "outputs": [
    {
     "data": {
      "text/html": [
       "<div>\n",
       "<style scoped>\n",
       "    .dataframe tbody tr th:only-of-type {\n",
       "        vertical-align: middle;\n",
       "    }\n",
       "\n",
       "    .dataframe tbody tr th {\n",
       "        vertical-align: top;\n",
       "    }\n",
       "\n",
       "    .dataframe thead th {\n",
       "        text-align: right;\n",
       "    }\n",
       "</style>\n",
       "<table border=\"1\" class=\"dataframe\">\n",
       "  <thead>\n",
       "    <tr style=\"text-align: right;\">\n",
       "      <th></th>\n",
       "      <th>R</th>\n",
       "      <th>S</th>\n",
       "      <th>A</th>\n",
       "      <th>G</th>\n",
       "      <th>L</th>\n",
       "      <th>F</th>\n",
       "      <th>p</th>\n",
       "    </tr>\n",
       "  </thead>\n",
       "  <tbody>\n",
       "    <tr>\n",
       "      <th>0</th>\n",
       "      <td>tensor(1.)</td>\n",
       "      <td>tensor(0.)</td>\n",
       "      <td>tensor(0.0263)</td>\n",
       "      <td>tensor(1.4554)</td>\n",
       "      <td>tensor(5.6359)</td>\n",
       "      <td>tensor(2.4945)</td>\n",
       "      <td>tensor(0.0435)</td>\n",
       "    </tr>\n",
       "    <tr>\n",
       "      <th>1</th>\n",
       "      <td>tensor(1.)</td>\n",
       "      <td>tensor(0.)</td>\n",
       "      <td>tensor(0.7094)</td>\n",
       "      <td>tensor(3.0938)</td>\n",
       "      <td>tensor(6.4882)</td>\n",
       "      <td>tensor(2.9650)</td>\n",
       "      <td>tensor(0.4915)</td>\n",
       "    </tr>\n",
       "    <tr>\n",
       "      <th>2</th>\n",
       "      <td>tensor(0.)</td>\n",
       "      <td>tensor(0.)</td>\n",
       "      <td>tensor(1.6020)</td>\n",
       "      <td>tensor(1.7183)</td>\n",
       "      <td>tensor(1.5369)</td>\n",
       "      <td>tensor(1.3702)</td>\n",
       "      <td>tensor(0.0533)</td>\n",
       "    </tr>\n",
       "    <tr>\n",
       "      <th>3</th>\n",
       "      <td>tensor(1.)</td>\n",
       "      <td>tensor(1.)</td>\n",
       "      <td>tensor(2.2869)</td>\n",
       "      <td>tensor(8.0049)</td>\n",
       "      <td>tensor(8.8084)</td>\n",
       "      <td>tensor(5.8834)</td>\n",
       "      <td>tensor(0.0148)</td>\n",
       "    </tr>\n",
       "    <tr>\n",
       "      <th>4</th>\n",
       "      <td>tensor(0.)</td>\n",
       "      <td>tensor(0.)</td>\n",
       "      <td>tensor(1.0806)</td>\n",
       "      <td>tensor(0.4785)</td>\n",
       "      <td>tensor(1.0816)</td>\n",
       "      <td>tensor(1.2844)</td>\n",
       "      <td>tensor(0.0706)</td>\n",
       "    </tr>\n",
       "  </tbody>\n",
       "</table>\n",
       "</div>"
      ],
      "text/plain": [
       "            R           S               A               G               L  \\\n",
       "0  tensor(1.)  tensor(0.)  tensor(0.0263)  tensor(1.4554)  tensor(5.6359)   \n",
       "1  tensor(1.)  tensor(0.)  tensor(0.7094)  tensor(3.0938)  tensor(6.4882)   \n",
       "2  tensor(0.)  tensor(0.)  tensor(1.6020)  tensor(1.7183)  tensor(1.5369)   \n",
       "3  tensor(1.)  tensor(1.)  tensor(2.2869)  tensor(8.0049)  tensor(8.8084)   \n",
       "4  tensor(0.)  tensor(0.)  tensor(1.0806)  tensor(0.4785)  tensor(1.0816)   \n",
       "\n",
       "                F               p  \n",
       "0  tensor(2.4945)  tensor(0.0435)  \n",
       "1  tensor(2.9650)  tensor(0.4915)  \n",
       "2  tensor(1.3702)  tensor(0.0533)  \n",
       "3  tensor(5.8834)  tensor(0.0148)  \n",
       "4  tensor(1.2844)  tensor(0.0706)  "
      ]
     },
     "execution_count": 15,
     "metadata": {},
     "output_type": "execute_result"
    }
   ],
   "source": [
    "unaware_sample= []\n",
    "for i in range(1000):\n",
    "    trace = trace_handler.get_trace()\n",
    "    R = trace.nodes['R']['value']\n",
    "    S = trace.nodes['S']['value']\n",
    "    A = trace.nodes['A']['value']\n",
    "    G = trace.nodes['G']['value']\n",
    "    L = trace.nodes['L']['value']\n",
    "    F = trace.nodes['F']['value']\n",
    "    # get prob of each combination\n",
    "    log_prob = trace.log_prob_sum()\n",
    "    p = np.exp(log_prob)\n",
    "    samples = samples.append({'R': R, 'S': S, 'A': A, 'G': G, 'L':L, 'F': F, 'p': p}, ignore_index=True)\n",
    "    unaware_sample.append(([G,L,F]))\n",
    "\n",
    "samples.head()"
   ]
  },
  {
   "cell_type": "code",
   "execution_count": 17,
   "metadata": {},
   "outputs": [
    {
     "name": "stdout",
     "output_type": "stream",
     "text": [
      "[iteration 0010] loss: 1228.0948\n",
      "[iteration 0020] loss: 920.1564\n",
      "[iteration 0030] loss: 762.8047\n",
      "[iteration 0040] loss: 438.1056\n",
      "[iteration 0050] loss: 353.0892\n",
      "[iteration 0060] loss: 321.7837\n",
      "[iteration 0070] loss: 300.1779\n",
      "[iteration 0080] loss: 289.3389\n",
      "[iteration 0090] loss: 284.8181\n",
      "[iteration 0100] loss: 282.8357\n",
      "[iteration 0110] loss: 281.8677\n",
      "[iteration 0120] loss: 281.3944\n",
      "[iteration 0130] loss: 281.1844\n",
      "[iteration 0140] loss: 281.1036\n",
      "[iteration 0150] loss: 281.0769\n",
      "[iteration 0160] loss: 281.0694\n",
      "[iteration 0170] loss: 281.0674\n",
      "[iteration 0180] loss: 281.0671\n",
      "[iteration 0190] loss: 281.0671\n",
      "[iteration 0200] loss: 281.0671\n",
      "[iteration 0210] loss: 281.0671\n",
      "[iteration 0220] loss: 281.0671\n",
      "[iteration 0230] loss: 281.0671\n",
      "[iteration 0240] loss: 281.0671\n",
      "[iteration 0250] loss: 281.0671\n",
      "[iteration 0260] loss: 281.0671\n",
      "[iteration 0270] loss: 281.0671\n",
      "[iteration 0280] loss: 281.0671\n",
      "[iteration 0290] loss: 281.0671\n",
      "[iteration 0300] loss: 281.0671\n",
      "[iteration 0310] loss: 281.0671\n",
      "[iteration 0320] loss: 281.0671\n",
      "[iteration 0330] loss: 281.0671\n",
      "[iteration 0340] loss: 281.0671\n",
      "[iteration 0350] loss: 281.0671\n",
      "[iteration 0360] loss: 281.0671\n",
      "[iteration 0370] loss: 281.0671\n",
      "[iteration 0380] loss: 281.0671\n",
      "[iteration 0390] loss: 281.0671\n",
      "[iteration 0400] loss: 281.0671\n",
      "[iteration 0410] loss: 281.0671\n",
      "[iteration 0420] loss: 281.0671\n",
      "[iteration 0430] loss: 281.0671\n",
      "[iteration 0440] loss: 281.0671\n",
      "[iteration 0450] loss: 281.0671\n",
      "[iteration 0460] loss: 281.0671\n",
      "[iteration 0470] loss: 281.0671\n",
      "[iteration 0480] loss: 281.0671\n",
      "[iteration 0490] loss: 281.0671\n",
      "[iteration 0500] loss: 281.0671\n",
      "Learned parameters:\n",
      "weight [[0.27673978 0.35073876]]\n",
      "bias [-0.28901267]\n"
     ]
    }
   ],
   "source": [
    "# for CI testing\n",
    "smoke_test = ('CI' in os.environ)\n",
    "pyro.enable_validation(True)\n",
    "pyro.set_rng_seed(1)\n",
    "pyro.enable_validation(True)\n",
    "\n",
    "\n",
    "# setup\n",
    "assert issubclass(PyroModule[nn.Linear], nn.Linear)\n",
    "assert issubclass(PyroModule[nn.Linear], PyroModule)\n",
    "\n",
    "\n",
    "#Data to regress\n",
    "unaware_sample = torch.tensor(unaware_sample)\n",
    "x_data, y_data = unaware_sample[:, :-1], unaware_sample[:, -1]\n",
    "\n",
    "# Regression model\n",
    "# 2 = in features, 1=out feature\n",
    "linear_reg_model = PyroModule[nn.Linear](2, 1)\n",
    "\n",
    "# Define loss and optimize\n",
    "loss_fn = torch.nn.MSELoss(reduction='sum')\n",
    "optim = torch.optim.Adam(linear_reg_model.parameters(), lr=0.05)\n",
    "num_iterations = 500 if not smoke_test else 2\n",
    "\n",
    "def train():\n",
    "    # run the model forward on the data\n",
    "    y_pred = linear_reg_model(x_data).squeeze(-1)\n",
    "    # calculate the mse loss\n",
    "    loss = loss_fn(y_pred, y_data)\n",
    "    # initialize gradients to zero\n",
    "    optim.zero_grad()\n",
    "    # backpropagate\n",
    "    loss.backward()\n",
    "    # take a gradient step\n",
    "    optim.step()\n",
    "    return loss\n",
    "\n",
    "for j in range(num_iterations):\n",
    "    loss = train()\n",
    "    if (j + 1) % 10 == 0:\n",
    "        print(\"[iteration %04d] loss: %.4f\" % (j + 1, loss.item()))\n",
    "\n",
    "# Inspect learned parameters\n",
    "print(\"Learned parameters:\")\n",
    "for name, param in linear_reg_model.named_parameters():\n",
    "    print(name, param.data.numpy())"
   ]
  },
  {
   "cell_type": "code",
   "execution_count": 18,
   "metadata": {},
   "outputs": [
    {
     "data": {
      "text/plain": [
       "(array([ 17.,  45.,  56.,  47.,  38.,  81., 155., 137.,  40.,  14.]),\n",
       " array([-1.743669  , -1.1420765 , -0.5404841 ,  0.06110845,  0.66270095,\n",
       "         1.2642934 ,  1.865886  ,  2.4674785 ,  3.0690708 ,  3.6706634 ,\n",
       "         4.272256  ], dtype=float32),\n",
       " <a list of 10 Patch objects>)"
      ]
     },
     "execution_count": 18,
     "metadata": {},
     "output_type": "execute_result"
    },
    {
     "data": {
      "image/png": "[encoded data removed]",
      "text/plain": [
       "<Figure size 864x432 with 2 Axes>"
      ]
     },
     "metadata": {
      "needs_background": "light"
     },
     "output_type": "display_data"
    }
   ],
   "source": [
    "fit = samples.copy()\n",
    "fit[\"mean\"] = linear_reg_model(x_data).detach().numpy()\n",
    "\n",
    "S1 = fit[fit[\"S\"] == 1]\n",
    "S0 = fit[fit[\"S\"] == 0]\n",
    "R1 = fit[fit[\"R\"] == 1]\n",
    "R0 = fit[fit[\"R\"] == 0]\n",
    "\n",
    "fig, ax = plt.subplots(nrows=1, ncols=2, figsize=(12, 6), sharey=True)\n",
    "ax[0].hist(R1[\"mean\"])\n",
    "ax[0].hist(R0[\"mean\"])\n",
    "ax[1].hist(S1[\"mean\"])\n",
    "ax[1].hist(S0[\"mean\"])\n"
   ]
  },
  {
   "cell_type": "markdown",
   "metadata": {},
   "source": [
    "## Full Model\n",
    "\n",
    "This model uses all observable variables. This has the consequence of using R/S directly in its decision. \n",
    "(Causal model here would show R/S causing FYA as well). "
   ]
  },
  {
   "cell_type": "code",
   "execution_count": 33,
   "metadata": {},
   "outputs": [
    {
     "data": {
      "text/html": [
       "<div>\n",
       "<style scoped>\n",
       "    .dataframe tbody tr th:only-of-type {\n",
       "        vertical-align: middle;\n",
       "    }\n",
       "\n",
       "    .dataframe tbody tr th {\n",
       "        vertical-align: top;\n",
       "    }\n",
       "\n",
       "    .dataframe thead th {\n",
       "        text-align: right;\n",
       "    }\n",
       "</style>\n",
       "<table border=\"1\" class=\"dataframe\">\n",
       "  <thead>\n",
       "    <tr style=\"text-align: right;\">\n",
       "      <th></th>\n",
       "      <th>R</th>\n",
       "      <th>S</th>\n",
       "      <th>A</th>\n",
       "      <th>G</th>\n",
       "      <th>L</th>\n",
       "      <th>F</th>\n",
       "      <th>p</th>\n",
       "    </tr>\n",
       "  </thead>\n",
       "  <tbody>\n",
       "    <tr>\n",
       "      <th>0</th>\n",
       "      <td>tensor(1.)</td>\n",
       "      <td>tensor(1.)</td>\n",
       "      <td>tensor(0.0739)</td>\n",
       "      <td>tensor(4.8844)</td>\n",
       "      <td>tensor(6.4200)</td>\n",
       "      <td>tensor(3.2143)</td>\n",
       "      <td>tensor(0.0547)</td>\n",
       "    </tr>\n",
       "    <tr>\n",
       "      <th>1</th>\n",
       "      <td>tensor(1.)</td>\n",
       "      <td>tensor(0.)</td>\n",
       "      <td>tensor(1.6005)</td>\n",
       "      <td>tensor(3.9457)</td>\n",
       "      <td>tensor(7.4651)</td>\n",
       "      <td>tensor(4.0628)</td>\n",
       "      <td>tensor(0.1327)</td>\n",
       "    </tr>\n",
       "    <tr>\n",
       "      <th>2</th>\n",
       "      <td>tensor(1.)</td>\n",
       "      <td>tensor(0.)</td>\n",
       "      <td>tensor(-0.6672)</td>\n",
       "      <td>tensor(1.1866)</td>\n",
       "      <td>tensor(5.1768)</td>\n",
       "      <td>tensor(1.9296)</td>\n",
       "      <td>tensor(0.3032)</td>\n",
       "    </tr>\n",
       "    <tr>\n",
       "      <th>3</th>\n",
       "      <td>tensor(1.)</td>\n",
       "      <td>tensor(0.)</td>\n",
       "      <td>tensor(-0.2638)</td>\n",
       "      <td>tensor(2.5346)</td>\n",
       "      <td>tensor(5.3216)</td>\n",
       "      <td>tensor(1.7472)</td>\n",
       "      <td>tensor(0.0176)</td>\n",
       "    </tr>\n",
       "    <tr>\n",
       "      <th>4</th>\n",
       "      <td>tensor(1.)</td>\n",
       "      <td>tensor(0.)</td>\n",
       "      <td>tensor(-0.9319)</td>\n",
       "      <td>tensor(1.6503)</td>\n",
       "      <td>tensor(4.8414)</td>\n",
       "      <td>tensor(0.9323)</td>\n",
       "      <td>tensor(0.1051)</td>\n",
       "    </tr>\n",
       "  </tbody>\n",
       "</table>\n",
       "</div>"
      ],
      "text/plain": [
       "            R           S                A               G               L  \\\n",
       "0  tensor(1.)  tensor(1.)   tensor(0.0739)  tensor(4.8844)  tensor(6.4200)   \n",
       "1  tensor(1.)  tensor(0.)   tensor(1.6005)  tensor(3.9457)  tensor(7.4651)   \n",
       "2  tensor(1.)  tensor(0.)  tensor(-0.6672)  tensor(1.1866)  tensor(5.1768)   \n",
       "3  tensor(1.)  tensor(0.)  tensor(-0.2638)  tensor(2.5346)  tensor(5.3216)   \n",
       "4  tensor(1.)  tensor(0.)  tensor(-0.9319)  tensor(1.6503)  tensor(4.8414)   \n",
       "\n",
       "                F               p  \n",
       "0  tensor(3.2143)  tensor(0.0547)  \n",
       "1  tensor(4.0628)  tensor(0.1327)  \n",
       "2  tensor(1.9296)  tensor(0.3032)  \n",
       "3  tensor(1.7472)  tensor(0.0176)  \n",
       "4  tensor(0.9323)  tensor(0.1051)  "
      ]
     },
     "execution_count": 33,
     "metadata": {},
     "output_type": "execute_result"
    }
   ],
   "source": [
    "samples = pd.DataFrame(columns=['R', 'S', 'A', 'G', 'L', 'F', 'p'])\n",
    "full_sample= []\n",
    "for i in range(1000):\n",
    "    trace = trace_handler.get_trace(exo_dist)\n",
    "    R = trace.nodes['R']['value']\n",
    "    S = trace.nodes['S']['value']\n",
    "    A = trace.nodes['A']['value']\n",
    "    G = trace.nodes['G']['value']\n",
    "    L = trace.nodes['L']['value']\n",
    "    F = trace.nodes['F']['value']\n",
    "    # get prob of each combination\n",
    "    log_prob = trace.log_prob_sum()\n",
    "    p = np.exp(log_prob)\n",
    "    samples=samples.append({'R': R, 'S': S, 'A': A, 'G': G, 'L':L, 'F': F, 'p': p}, ignore_index=True)\n",
    "    full_sample.append(([R,S,G,L,F]))\n",
    "\n",
    "samples.head()"
   ]
  },
  {
   "cell_type": "code",
   "execution_count": 34,
   "metadata": {},
   "outputs": [
    {
     "name": "stdout",
     "output_type": "stream",
     "text": [
      "[iteration 0010] loss: 789.6496\n",
      "[iteration 0020] loss: 971.4789\n",
      "[iteration 0030] loss: 723.6378\n",
      "[iteration 0040] loss: 383.9923\n",
      "[iteration 0050] loss: 370.0474\n",
      "[iteration 0060] loss: 339.2785\n",
      "[iteration 0070] loss: 302.6099\n",
      "[iteration 0080] loss: 278.8698\n",
      "[iteration 0090] loss: 261.9639\n",
      "[iteration 0100] loss: 248.0414\n",
      "[iteration 0110] loss: 236.1470\n",
      "[iteration 0120] loss: 225.9137\n",
      "[iteration 0130] loss: 217.0389\n",
      "[iteration 0140] loss: 209.2750\n",
      "[iteration 0150] loss: 202.4385\n",
      "[iteration 0160] loss: 196.3949\n",
      "[iteration 0170] loss: 191.0415\n",
      "[iteration 0180] loss: 186.2945\n",
      "[iteration 0190] loss: 182.0818\n",
      "[iteration 0200] loss: 178.3382\n",
      "[iteration 0210] loss: 175.0039\n",
      "[iteration 0220] loss: 172.0241\n",
      "[iteration 0230] loss: 169.3489\n",
      "[iteration 0240] loss: 166.9330\n",
      "[iteration 0250] loss: 164.7365\n",
      "[iteration 0260] loss: 162.7241\n",
      "[iteration 0270] loss: 160.8655\n",
      "[iteration 0280] loss: 159.1345\n",
      "[iteration 0290] loss: 157.5092\n",
      "[iteration 0300] loss: 155.9714\n",
      "[iteration 0310] loss: 154.5060\n",
      "[iteration 0320] loss: 153.1007\n",
      "[iteration 0330] loss: 151.7456\n",
      "[iteration 0340] loss: 150.4330\n",
      "[iteration 0350] loss: 149.1566\n",
      "[iteration 0360] loss: 147.9118\n",
      "[iteration 0370] loss: 146.6950\n",
      "[iteration 0380] loss: 145.5035\n",
      "[iteration 0390] loss: 144.3354\n",
      "[iteration 0400] loss: 143.1892\n",
      "[iteration 0410] loss: 142.0640\n",
      "[iteration 0420] loss: 140.9592\n",
      "[iteration 0430] loss: 139.8745\n",
      "[iteration 0440] loss: 138.8097\n",
      "[iteration 0450] loss: 137.7646\n",
      "[iteration 0460] loss: 136.7394\n",
      "[iteration 0470] loss: 135.7341\n",
      "[iteration 0480] loss: 134.7488\n",
      "[iteration 0490] loss: 133.7836\n",
      "[iteration 0500] loss: 132.8387\n",
      "Learned parameters:\n",
      "weight [[-1.8048851  -0.45470715  0.30250278  0.61171335]]\n",
      "bias [-0.04319745]\n"
     ]
    }
   ],
   "source": [
    "#Data to regress\n",
    "full_sample = torch.tensor(full_sample)\n",
    "x_data, y_data = full_sample[:, :-1], full_sample[:, -1]\n",
    "\n",
    "# Regression model\n",
    "# 2 = in features, 1=out feature\n",
    "linear_reg_model = PyroModule[nn.Linear](4, 1)\n",
    "\n",
    "# Define loss and optimize\n",
    "loss_fn = torch.nn.MSELoss(reduction='sum')\n",
    "optim = torch.optim.Adam(linear_reg_model.parameters(), lr=0.05)\n",
    "num_iterations = 500 if not smoke_test else 2\n",
    "\n",
    "def train():\n",
    "    # run the model forward on the data\n",
    "    y_pred = linear_reg_model(x_data).squeeze(-1)\n",
    "    # calculate the mse loss\n",
    "    loss = loss_fn(y_pred, y_data)\n",
    "    # initialize gradients to zero\n",
    "    optim.zero_grad()\n",
    "    # backpropagate\n",
    "    loss.backward()\n",
    "    # take a gradient step\n",
    "    optim.step()\n",
    "    return loss\n",
    "\n",
    "for j in range(num_iterations):\n",
    "    loss = train()\n",
    "    if (j + 1) % 10 == 0:\n",
    "        print(\"[iteration %04d] loss: %.4f\" % (j + 1, loss.item()))\n",
    "\n",
    "# Inspect learned parameters\n",
    "print(\"Learned parameters:\")\n",
    "for name, param in linear_reg_model.named_parameters():\n",
    "    print(name, param.data.numpy())\n",
    "    "
   ]
  },
  {
   "cell_type": "code",
   "execution_count": 35,
   "metadata": {},
   "outputs": [
    {
     "data": {
      "text/plain": [
       "(array([  3.,  19.,  33.,  65.,  77., 134., 155.,  98.,  45.,   2.]),\n",
       " array([-2.8060572 , -2.0081537 , -1.2102501 , -0.41234654,  0.38555703,\n",
       "         1.1834606 ,  1.9813641 ,  2.7792678 ,  3.5771713 ,  4.375075  ,\n",
       "         5.1729784 ], dtype=float32),\n",
       " <a list of 10 Patch objects>)"
      ]
     },
     "execution_count": 35,
     "metadata": {},
     "output_type": "execute_result"
    },
    {
     "data": {
      "image/png": "[encoded data removed]",
      "text/plain": [
       "<Figure size 864x432 with 2 Axes>"
      ]
     },
     "metadata": {
      "needs_background": "light"
     },
     "output_type": "display_data"
    }
   ],
   "source": [
    "fit = samples.copy()\n",
    "fit[\"mean\"] = linear_reg_model(x_data).detach().numpy()\n",
    "\n",
    "S1 = fit[fit[\"S\"] == 1]\n",
    "S0 = fit[fit[\"S\"] == 0]\n",
    "R1 = fit[fit[\"R\"] == 1]\n",
    "R0 = fit[fit[\"R\"] == 0]\n",
    "\n",
    "fig, ax = plt.subplots(nrows=1, ncols=2, figsize=(12, 6), sharey=True)\n",
    "ax[0].hist(R1[\"mean\"])\n",
    "ax[0].hist(R0[\"mean\"])\n",
    "ax[1].hist(S1[\"mean\"])\n",
    "ax[1].hist(S0[\"mean\"])"
   ]
  },
  {
   "cell_type": "markdown",
   "metadata": {},
   "source": [
    "## Inferring K\n",
    "\n",
    "This model infers K and uses that to predict FYA instead of relying on R,S (which are parents of G,L making those indirectly biased). First trains on all features (including R and S). Then learns K and uses that to predict F."
   ]
  },
  {
   "cell_type": "code",
   "execution_count": 16,
   "metadata": {},
   "outputs": [
    {
     "data": {
      "text/html": [
       "<div>\n",
       "<style scoped>\n",
       "    .dataframe tbody tr th:only-of-type {\n",
       "        vertical-align: middle;\n",
       "    }\n",
       "\n",
       "    .dataframe tbody tr th {\n",
       "        vertical-align: top;\n",
       "    }\n",
       "\n",
       "    .dataframe thead th {\n",
       "        text-align: right;\n",
       "    }\n",
       "</style>\n",
       "<table border=\"1\" class=\"dataframe\">\n",
       "  <thead>\n",
       "    <tr style=\"text-align: right;\">\n",
       "      <th></th>\n",
       "      <th>R</th>\n",
       "      <th>S</th>\n",
       "      <th>A</th>\n",
       "      <th>G</th>\n",
       "      <th>L</th>\n",
       "      <th>F</th>\n",
       "      <th>p</th>\n",
       "    </tr>\n",
       "  </thead>\n",
       "  <tbody>\n",
       "    <tr>\n",
       "      <th>0</th>\n",
       "      <td>tensor(1.)</td>\n",
       "      <td>tensor(0.)</td>\n",
       "      <td>tensor(-0.0342)</td>\n",
       "      <td>tensor(1.9971)</td>\n",
       "      <td>tensor(5.8420)</td>\n",
       "      <td>tensor(2.2940)</td>\n",
       "      <td>tensor(0.5667)</td>\n",
       "    </tr>\n",
       "    <tr>\n",
       "      <th>1</th>\n",
       "      <td>tensor(1.)</td>\n",
       "      <td>tensor(0.)</td>\n",
       "      <td>tensor(0.5362)</td>\n",
       "      <td>tensor(3.4626)</td>\n",
       "      <td>tensor(6.2691)</td>\n",
       "      <td>tensor(2.8632)</td>\n",
       "      <td>tensor(0.1350)</td>\n",
       "    </tr>\n",
       "    <tr>\n",
       "      <th>2</th>\n",
       "      <td>tensor(0.)</td>\n",
       "      <td>tensor(1.)</td>\n",
       "      <td>tensor(0.0234)</td>\n",
       "      <td>tensor(3.4050)</td>\n",
       "      <td>tensor(0.8411)</td>\n",
       "      <td>tensor(0.8340)</td>\n",
       "      <td>tensor(0.0717)</td>\n",
       "    </tr>\n",
       "    <tr>\n",
       "      <th>3</th>\n",
       "      <td>tensor(1.)</td>\n",
       "      <td>tensor(0.)</td>\n",
       "      <td>tensor(1.6624)</td>\n",
       "      <td>tensor(4.5280)</td>\n",
       "      <td>tensor(7.4667)</td>\n",
       "      <td>tensor(3.5183)</td>\n",
       "      <td>tensor(0.0200)</td>\n",
       "    </tr>\n",
       "    <tr>\n",
       "      <th>4</th>\n",
       "      <td>tensor(1.)</td>\n",
       "      <td>tensor(1.)</td>\n",
       "      <td>tensor(1.0750)</td>\n",
       "      <td>tensor(6.7196)</td>\n",
       "      <td>tensor(7.6605)</td>\n",
       "      <td>tensor(4.3718)</td>\n",
       "      <td>tensor(0.1429)</td>\n",
       "    </tr>\n",
       "  </tbody>\n",
       "</table>\n",
       "</div>"
      ],
      "text/plain": [
       "            R           S                A               G               L  \\\n",
       "0  tensor(1.)  tensor(0.)  tensor(-0.0342)  tensor(1.9971)  tensor(5.8420)   \n",
       "1  tensor(1.)  tensor(0.)   tensor(0.5362)  tensor(3.4626)  tensor(6.2691)   \n",
       "2  tensor(0.)  tensor(1.)   tensor(0.0234)  tensor(3.4050)  tensor(0.8411)   \n",
       "3  tensor(1.)  tensor(0.)   tensor(1.6624)  tensor(4.5280)  tensor(7.4667)   \n",
       "4  tensor(1.)  tensor(1.)   tensor(1.0750)  tensor(6.7196)  tensor(7.6605)   \n",
       "\n",
       "                F               p  \n",
       "0  tensor(2.2940)  tensor(0.5667)  \n",
       "1  tensor(2.8632)  tensor(0.1350)  \n",
       "2  tensor(0.8340)  tensor(0.0717)  \n",
       "3  tensor(3.5183)  tensor(0.0200)  \n",
       "4  tensor(4.3718)  tensor(0.1429)  "
      ]
     },
     "execution_count": 16,
     "metadata": {},
     "output_type": "execute_result"
    }
   ],
   "source": [
    "samples = pd.DataFrame(columns=['R', 'S', 'A', 'G', 'L', 'F', 'p'])\n",
    "aware_sample= []\n",
    "for i in range(1000):\n",
    "    trace = trace_handler.get_trace()\n",
    "    R = trace.nodes['R']['value']\n",
    "    S = trace.nodes['S']['value']\n",
    "    A = trace.nodes['A']['value']\n",
    "    G = trace.nodes['G']['value']\n",
    "    L = trace.nodes['L']['value']\n",
    "    F = trace.nodes['F']['value']\n",
    "    # get prob of each combination\n",
    "    log_prob = trace.log_prob_sum()\n",
    "    p = np.exp(log_prob)\n",
    "    samples = samples.append({'R': R, 'S': S, 'A': A, 'G': G, 'L':L, 'F': F, 'p': p}, ignore_index=True)\n",
    "    aware_sample.append(([R,S,F]))\n",
    "\n",
    "samples.head()"
   ]
  },
  {
   "cell_type": "code",
   "execution_count": 41,
   "metadata": {},
   "outputs": [],
   "source": [
    "# assign the observed G and L\n",
    "G=samples.G\n",
    "L=samples.L"
   ]
  },
  {
   "cell_type": "markdown",
   "metadata": {},
   "source": [
    "Iterate through all the generated samples and use the G/L (observed variables) to infer that sample's K."
   ]
  },
  {
   "cell_type": "code",
   "execution_count": 98,
   "metadata": {},
   "outputs": [],
   "source": [
    "# hold all K values\n",
    "K=[]\n",
    "# iterate through the 1000 samples of G/L and infer K\n",
    "for i in range(1000):\n",
    "        conditioned = pyro.condition(model, data={\"G\": G[i], \"L\": L[i]})\n",
    "\n",
    "        # use pyro.infer.Importance\n",
    "        posterior = pyro.infer.Importance(conditioned, num_samples=100).run()\n",
    "        post_marginal = pyro.infer.EmpiricalMarginal(posterior, \"A\")\n",
    "        post_samples = [post_marginal().item() for _ in range(100)]\n",
    "        post_unique, post_counts = np.unique(post_samples, return_counts=True)\n",
    "        # calculate the mean of the inferred\n",
    "        mean = np.mean(post_samples)\n",
    "        K.append(mean)"
   ]
  },
  {
   "cell_type": "markdown",
   "metadata": {},
   "source": [
    "Distribution of the Inferred K and the generated K samples "
   ]
  },
  {
   "cell_type": "code",
   "execution_count": 108,
   "metadata": {},
   "outputs": [
    {
     "data": {
      "image/png": "[encoded data removed]",
      "text/plain": [
       "<Figure size 432x288 with 1 Axes>"
      ]
     },
     "metadata": {
      "needs_background": "light"
     },
     "output_type": "display_data"
    }
   ],
   "source": [
    "plt.hist(K)\n",
    "plt.ylabel(\"Count\")\n",
    "plt.xlabel(\"Inferred K\")\n",
    "plt.show()"
   ]
  },
  {
   "cell_type": "code",
   "execution_count": 107,
   "metadata": {},
   "outputs": [
    {
     "data": {
      "image/png": "[encoded data removed]",
      "text/plain": [
       "<Figure size 432x288 with 1 Axes>"
      ]
     },
     "metadata": {
      "needs_background": "light"
     },
     "output_type": "display_data"
    }
   ],
   "source": [
    "plt.hist([float(a) for a in samples.A])\n",
    "plt.ylabel(\"Count\")\n",
    "plt.xlabel(\"From calculated samples K\")\n",
    "plt.show()"
   ]
  },
  {
   "cell_type": "markdown",
   "metadata": {},
   "source": [
    "Comparison between some of the rows: \n",
    "\n",
    "You can see how closely the inferred K's managed to be to the \"actual\" K's (which we technically can never know)."
   ]
  },
  {
   "cell_type": "code",
   "execution_count": 110,
   "metadata": {},
   "outputs": [
    {
     "name": "stdout",
     "output_type": "stream",
     "text": [
      "tensor(4.1725) tensor(2.0282) tensor(1.2714) 1.1047669649124146\n",
      "tensor(0.6776) tensor(4.7277) tensor(-1.0685) -1.0126692789793015\n",
      "tensor(1.1278) tensor(4.6387) tensor(-1.1928) -1.1516192603111266\n",
      "tensor(2.0109) tensor(5.6828) tensor(-0.1505) -0.14025823023170234\n"
     ]
    }
   ],
   "source": [
    "for i in range(5, 15, 3):\n",
    "    print(samples.G[i], samples.L[i], samples.A[i], K[i])"
   ]
  },
  {
   "cell_type": "markdown",
   "metadata": {},
   "source": [
    "## Now use our new inferred K into the Linear Reg Model to predict F"
   ]
  },
  {
   "cell_type": "code",
   "execution_count": 156,
   "metadata": {},
   "outputs": [
    {
     "ename": "RuntimeError",
     "evalue": "size mismatch, m1: [1 x 1000], m2: [1 x 1] at ..\\aten\\src\\TH/generic/THTensorMath.cpp:41",
     "output_type": "error",
     "traceback": [
      "\u001b[1;31m---------------------------------------------------------------------------\u001b[0m",
      "\u001b[1;31mRuntimeError\u001b[0m                              Traceback (most recent call last)",
      "\u001b[1;32m<ipython-input-156-e109153e99b6>\u001b[0m in \u001b[0;36m<module>\u001b[1;34m\u001b[0m\n\u001b[0;32m     25\u001b[0m \u001b[1;33m\u001b[0m\u001b[0m\n\u001b[0;32m     26\u001b[0m \u001b[1;32mfor\u001b[0m \u001b[0mj\u001b[0m \u001b[1;32min\u001b[0m \u001b[0mrange\u001b[0m\u001b[1;33m(\u001b[0m\u001b[0mnum_iterations\u001b[0m\u001b[1;33m)\u001b[0m\u001b[1;33m:\u001b[0m\u001b[1;33m\u001b[0m\u001b[1;33m\u001b[0m\u001b[0m\n\u001b[1;32m---> 27\u001b[1;33m     \u001b[0mloss\u001b[0m \u001b[1;33m=\u001b[0m \u001b[0mtrain\u001b[0m\u001b[1;33m(\u001b[0m\u001b[1;33m)\u001b[0m\u001b[1;33m\u001b[0m\u001b[1;33m\u001b[0m\u001b[0m\n\u001b[0m\u001b[0;32m     28\u001b[0m     \u001b[1;32mif\u001b[0m \u001b[1;33m(\u001b[0m\u001b[0mj\u001b[0m \u001b[1;33m+\u001b[0m \u001b[1;36m1\u001b[0m\u001b[1;33m)\u001b[0m \u001b[1;33m%\u001b[0m \u001b[1;36m10\u001b[0m \u001b[1;33m==\u001b[0m \u001b[1;36m0\u001b[0m\u001b[1;33m:\u001b[0m\u001b[1;33m\u001b[0m\u001b[1;33m\u001b[0m\u001b[0m\n\u001b[0;32m     29\u001b[0m         \u001b[0mprint\u001b[0m\u001b[1;33m(\u001b[0m\u001b[1;34m\"[iteration %04d] loss: %.4f\"\u001b[0m \u001b[1;33m%\u001b[0m \u001b[1;33m(\u001b[0m\u001b[0mj\u001b[0m \u001b[1;33m+\u001b[0m \u001b[1;36m1\u001b[0m\u001b[1;33m,\u001b[0m \u001b[0mloss\u001b[0m\u001b[1;33m.\u001b[0m\u001b[0mitem\u001b[0m\u001b[1;33m(\u001b[0m\u001b[1;33m)\u001b[0m\u001b[1;33m)\u001b[0m\u001b[1;33m)\u001b[0m\u001b[1;33m\u001b[0m\u001b[1;33m\u001b[0m\u001b[0m\n",
      "\u001b[1;32m<ipython-input-156-e109153e99b6>\u001b[0m in \u001b[0;36mtrain\u001b[1;34m()\u001b[0m\n\u001b[0;32m     13\u001b[0m \u001b[1;32mdef\u001b[0m \u001b[0mtrain\u001b[0m\u001b[1;33m(\u001b[0m\u001b[1;33m)\u001b[0m\u001b[1;33m:\u001b[0m\u001b[1;33m\u001b[0m\u001b[1;33m\u001b[0m\u001b[0m\n\u001b[0;32m     14\u001b[0m     \u001b[1;31m# run the model forward on the data\u001b[0m\u001b[1;33m\u001b[0m\u001b[1;33m\u001b[0m\u001b[1;33m\u001b[0m\u001b[0m\n\u001b[1;32m---> 15\u001b[1;33m     \u001b[0my_pred\u001b[0m \u001b[1;33m=\u001b[0m \u001b[0mlinear_reg_model\u001b[0m\u001b[1;33m(\u001b[0m\u001b[0mx_data\u001b[0m\u001b[1;33m)\u001b[0m\u001b[1;33m.\u001b[0m\u001b[0msqueeze\u001b[0m\u001b[1;33m(\u001b[0m\u001b[1;33m-\u001b[0m\u001b[1;36m1\u001b[0m\u001b[1;33m)\u001b[0m\u001b[1;33m\u001b[0m\u001b[1;33m\u001b[0m\u001b[0m\n\u001b[0m\u001b[0;32m     16\u001b[0m     \u001b[1;31m# calculate the mse loss\u001b[0m\u001b[1;33m\u001b[0m\u001b[1;33m\u001b[0m\u001b[1;33m\u001b[0m\u001b[0m\n\u001b[0;32m     17\u001b[0m     \u001b[0mloss\u001b[0m \u001b[1;33m=\u001b[0m \u001b[0mloss_fn\u001b[0m\u001b[1;33m(\u001b[0m\u001b[0my_pred\u001b[0m\u001b[1;33m,\u001b[0m \u001b[0my_data\u001b[0m\u001b[1;33m)\u001b[0m\u001b[1;33m\u001b[0m\u001b[1;33m\u001b[0m\u001b[0m\n",
      "\u001b[1;32m~\\anaconda3\\lib\\site-packages\\pyro\\nn\\module.py\u001b[0m in \u001b[0;36m__call__\u001b[1;34m(self, *args, **kwargs)\u001b[0m\n\u001b[0;32m    411\u001b[0m     \u001b[1;32mdef\u001b[0m \u001b[0m__call__\u001b[0m\u001b[1;33m(\u001b[0m\u001b[0mself\u001b[0m\u001b[1;33m,\u001b[0m \u001b[1;33m*\u001b[0m\u001b[0margs\u001b[0m\u001b[1;33m,\u001b[0m \u001b[1;33m**\u001b[0m\u001b[0mkwargs\u001b[0m\u001b[1;33m)\u001b[0m\u001b[1;33m:\u001b[0m\u001b[1;33m\u001b[0m\u001b[1;33m\u001b[0m\u001b[0m\n\u001b[0;32m    412\u001b[0m         \u001b[1;32mwith\u001b[0m \u001b[0mself\u001b[0m\u001b[1;33m.\u001b[0m\u001b[0m_pyro_context\u001b[0m\u001b[1;33m:\u001b[0m\u001b[1;33m\u001b[0m\u001b[1;33m\u001b[0m\u001b[0m\n\u001b[1;32m--> 413\u001b[1;33m             \u001b[1;32mreturn\u001b[0m \u001b[0msuper\u001b[0m\u001b[1;33m(\u001b[0m\u001b[1;33m)\u001b[0m\u001b[1;33m.\u001b[0m\u001b[0m__call__\u001b[0m\u001b[1;33m(\u001b[0m\u001b[1;33m*\u001b[0m\u001b[0margs\u001b[0m\u001b[1;33m,\u001b[0m \u001b[1;33m**\u001b[0m\u001b[0mkwargs\u001b[0m\u001b[1;33m)\u001b[0m\u001b[1;33m\u001b[0m\u001b[1;33m\u001b[0m\u001b[0m\n\u001b[0m\u001b[0;32m    414\u001b[0m \u001b[1;33m\u001b[0m\u001b[0m\n\u001b[0;32m    415\u001b[0m     \u001b[1;32mdef\u001b[0m \u001b[0m__getattr__\u001b[0m\u001b[1;33m(\u001b[0m\u001b[0mself\u001b[0m\u001b[1;33m,\u001b[0m \u001b[0mname\u001b[0m\u001b[1;33m)\u001b[0m\u001b[1;33m:\u001b[0m\u001b[1;33m\u001b[0m\u001b[1;33m\u001b[0m\u001b[0m\n",
      "\u001b[1;32m~\\anaconda3\\lib\\site-packages\\torch\\nn\\modules\\module.py\u001b[0m in \u001b[0;36m_call_impl\u001b[1;34m(self, *input, **kwargs)\u001b[0m\n\u001b[0;32m    720\u001b[0m             \u001b[0mresult\u001b[0m \u001b[1;33m=\u001b[0m \u001b[0mself\u001b[0m\u001b[1;33m.\u001b[0m\u001b[0m_slow_forward\u001b[0m\u001b[1;33m(\u001b[0m\u001b[1;33m*\u001b[0m\u001b[0minput\u001b[0m\u001b[1;33m,\u001b[0m \u001b[1;33m**\u001b[0m\u001b[0mkwargs\u001b[0m\u001b[1;33m)\u001b[0m\u001b[1;33m\u001b[0m\u001b[1;33m\u001b[0m\u001b[0m\n\u001b[0;32m    721\u001b[0m         \u001b[1;32melse\u001b[0m\u001b[1;33m:\u001b[0m\u001b[1;33m\u001b[0m\u001b[1;33m\u001b[0m\u001b[0m\n\u001b[1;32m--> 722\u001b[1;33m             \u001b[0mresult\u001b[0m \u001b[1;33m=\u001b[0m \u001b[0mself\u001b[0m\u001b[1;33m.\u001b[0m\u001b[0mforward\u001b[0m\u001b[1;33m(\u001b[0m\u001b[1;33m*\u001b[0m\u001b[0minput\u001b[0m\u001b[1;33m,\u001b[0m \u001b[1;33m**\u001b[0m\u001b[0mkwargs\u001b[0m\u001b[1;33m)\u001b[0m\u001b[1;33m\u001b[0m\u001b[1;33m\u001b[0m\u001b[0m\n\u001b[0m\u001b[0;32m    723\u001b[0m         for hook in itertools.chain(\n\u001b[0;32m    724\u001b[0m                 \u001b[0m_global_forward_hooks\u001b[0m\u001b[1;33m.\u001b[0m\u001b[0mvalues\u001b[0m\u001b[1;33m(\u001b[0m\u001b[1;33m)\u001b[0m\u001b[1;33m,\u001b[0m\u001b[1;33m\u001b[0m\u001b[1;33m\u001b[0m\u001b[0m\n",
      "\u001b[1;32m~\\anaconda3\\lib\\site-packages\\torch\\nn\\modules\\linear.py\u001b[0m in \u001b[0;36mforward\u001b[1;34m(self, input)\u001b[0m\n\u001b[0;32m     89\u001b[0m \u001b[1;33m\u001b[0m\u001b[0m\n\u001b[0;32m     90\u001b[0m     \u001b[1;32mdef\u001b[0m \u001b[0mforward\u001b[0m\u001b[1;33m(\u001b[0m\u001b[0mself\u001b[0m\u001b[1;33m,\u001b[0m \u001b[0minput\u001b[0m\u001b[1;33m:\u001b[0m \u001b[0mTensor\u001b[0m\u001b[1;33m)\u001b[0m \u001b[1;33m->\u001b[0m \u001b[0mTensor\u001b[0m\u001b[1;33m:\u001b[0m\u001b[1;33m\u001b[0m\u001b[1;33m\u001b[0m\u001b[0m\n\u001b[1;32m---> 91\u001b[1;33m         \u001b[1;32mreturn\u001b[0m \u001b[0mF\u001b[0m\u001b[1;33m.\u001b[0m\u001b[0mlinear\u001b[0m\u001b[1;33m(\u001b[0m\u001b[0minput\u001b[0m\u001b[1;33m,\u001b[0m \u001b[0mself\u001b[0m\u001b[1;33m.\u001b[0m\u001b[0mweight\u001b[0m\u001b[1;33m,\u001b[0m \u001b[0mself\u001b[0m\u001b[1;33m.\u001b[0m\u001b[0mbias\u001b[0m\u001b[1;33m)\u001b[0m\u001b[1;33m\u001b[0m\u001b[1;33m\u001b[0m\u001b[0m\n\u001b[0m\u001b[0;32m     92\u001b[0m \u001b[1;33m\u001b[0m\u001b[0m\n\u001b[0;32m     93\u001b[0m     \u001b[1;32mdef\u001b[0m \u001b[0mextra_repr\u001b[0m\u001b[1;33m(\u001b[0m\u001b[0mself\u001b[0m\u001b[1;33m)\u001b[0m \u001b[1;33m->\u001b[0m \u001b[0mstr\u001b[0m\u001b[1;33m:\u001b[0m\u001b[1;33m\u001b[0m\u001b[1;33m\u001b[0m\u001b[0m\n",
      "\u001b[1;32m~\\anaconda3\\lib\\site-packages\\torch\\nn\\functional.py\u001b[0m in \u001b[0;36mlinear\u001b[1;34m(input, weight, bias)\u001b[0m\n\u001b[0;32m   1674\u001b[0m         \u001b[0mret\u001b[0m \u001b[1;33m=\u001b[0m \u001b[0mtorch\u001b[0m\u001b[1;33m.\u001b[0m\u001b[0maddmm\u001b[0m\u001b[1;33m(\u001b[0m\u001b[0mbias\u001b[0m\u001b[1;33m,\u001b[0m \u001b[0minput\u001b[0m\u001b[1;33m,\u001b[0m \u001b[0mweight\u001b[0m\u001b[1;33m.\u001b[0m\u001b[0mt\u001b[0m\u001b[1;33m(\u001b[0m\u001b[1;33m)\u001b[0m\u001b[1;33m)\u001b[0m\u001b[1;33m\u001b[0m\u001b[1;33m\u001b[0m\u001b[0m\n\u001b[0;32m   1675\u001b[0m     \u001b[1;32melse\u001b[0m\u001b[1;33m:\u001b[0m\u001b[1;33m\u001b[0m\u001b[1;33m\u001b[0m\u001b[0m\n\u001b[1;32m-> 1676\u001b[1;33m         \u001b[0moutput\u001b[0m \u001b[1;33m=\u001b[0m \u001b[0minput\u001b[0m\u001b[1;33m.\u001b[0m\u001b[0mmatmul\u001b[0m\u001b[1;33m(\u001b[0m\u001b[0mweight\u001b[0m\u001b[1;33m.\u001b[0m\u001b[0mt\u001b[0m\u001b[1;33m(\u001b[0m\u001b[1;33m)\u001b[0m\u001b[1;33m)\u001b[0m\u001b[1;33m\u001b[0m\u001b[1;33m\u001b[0m\u001b[0m\n\u001b[0m\u001b[0;32m   1677\u001b[0m         \u001b[1;32mif\u001b[0m \u001b[0mbias\u001b[0m \u001b[1;32mis\u001b[0m \u001b[1;32mnot\u001b[0m \u001b[1;32mNone\u001b[0m\u001b[1;33m:\u001b[0m\u001b[1;33m\u001b[0m\u001b[1;33m\u001b[0m\u001b[0m\n\u001b[0;32m   1678\u001b[0m             \u001b[0moutput\u001b[0m \u001b[1;33m+=\u001b[0m \u001b[0mbias\u001b[0m\u001b[1;33m\u001b[0m\u001b[1;33m\u001b[0m\u001b[0m\n",
      "\u001b[1;31mRuntimeError\u001b[0m: size mismatch, m1: [1 x 1000], m2: [1 x 1] at ..\\aten\\src\\TH/generic/THTensorMath.cpp:41"
     ]
    }
   ],
   "source": [
    "#Data to regress\n",
    "# convert numpy.float64 types to float, then to tensor\n",
    "x_data, y_data = torch.tensor(np.array(K).tolist()), torch.tensor(samples.F)\n",
    "\n",
    "# Regression model\n",
    "linear_reg_model = PyroModule[nn.Linear](1, 1)\n",
    "\n",
    "# Define loss and optimize\n",
    "loss_fn = torch.nn.MSELoss(reduction='sum')\n",
    "optim = torch.optim.Adam(linear_reg_model.parameters(), lr=0.05)\n",
    "num_iterations = 500 \n",
    "\n",
    "def train():\n",
    "    # run the model forward on the data\n",
    "    y_pred = linear_reg_model(x_data).squeeze(-1)\n",
    "    # calculate the mse loss\n",
    "    loss = loss_fn(y_pred, y_data)\n",
    "    # initialize gradients to zero\n",
    "    optim.zero_grad()\n",
    "    # backpropagate\n",
    "    loss.backward()\n",
    "    # take a gradient step\n",
    "    optim.step()\n",
    "    return loss\n",
    "\n",
    "for j in range(num_iterations):\n",
    "    loss = train()\n",
    "    if (j + 1) % 10 == 0:\n",
    "        print(\"[iteration %04d] loss: %.4f\" % (j + 1, loss.item()))\n",
    "\n",
    "# Inspect learned parameters\n",
    "print(\"Learned parameters:\")\n",
    "for name, param in linear_reg_model.named_parameters():\n",
    "    print(name, param.data.numpy())"
   ]
  },
  {
   "cell_type": "code",
   "execution_count": 85,
   "metadata": {},
   "outputs": [
    {
     "data": {
      "text/plain": [
       "(array([461.,   0.,   0.,   0.,   0.,   0.,   0.,   0.,   0., 193.]),\n",
       " array([0.4549464 , 0.45644417, 0.45794195, 0.45943975, 0.46093753,\n",
       "        0.4624353 , 0.46393308, 0.46543086, 0.46692866, 0.46842644,\n",
       "        0.4699242 ], dtype=float32),\n",
       " <a list of 10 Patch objects>)"
      ]
     },
     "execution_count": 85,
     "metadata": {},
     "output_type": "execute_result"
    },
    {
     "data": {
      "image/png": "[encoded data removed]",
      "text/plain": [
       "<Figure size 864x432 with 2 Axes>"
      ]
     },
     "metadata": {
      "needs_background": "light"
     },
     "output_type": "display_data"
    }
   ],
   "source": [
    "fit = samples.copy()\n",
    "fit[\"mean\"] = linear_reg_model(A_pred).detach().numpy()\n",
    "\n",
    "S1 = fit[fit[\"S\"] == 1]\n",
    "S0 = fit[fit[\"S\"] == 0]\n",
    "R1 = fit[fit[\"R\"] == 1]\n",
    "R0 = fit[fit[\"R\"] == 0]\n",
    "\n",
    "fig, ax = plt.subplots(nrows=1, ncols=2, figsize=(12, 6), sharey=True)\n",
    "ax[0].hist(R1[\"mean\"])\n",
    "ax[0].hist(R0[\"mean\"])\n",
    "ax[1].hist(S1[\"mean\"])\n",
    "ax[1].hist(S0[\"mean\"])"
   ]
  },
  {
   "cell_type": "code",
   "execution_count": null,
   "metadata": {},
   "outputs": [],
   "source": []
  }
 ],
 "metadata": {
  "kernelspec": {
   "display_name": "Python 3",
   "language": "python",
   "name": "python3"
  },
  "language_info": {
   "codemirror_mode": {
    "name": "ipython",
    "version": 3
   },
   "file_extension": ".py",
   "mimetype": "text/x-python",
   "name": "python",
   "nbconvert_exporter": "python",
   "pygments_lexer": "ipython3",
   "version": "3.7.6"
  }
 },
 "nbformat": 4,
 "nbformat_minor": 4
}
