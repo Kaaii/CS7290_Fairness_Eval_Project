{
 "cells": [
  {
   "cell_type": "code",
   "execution_count": 70,
   "metadata": {},
   "outputs": [],
   "source": [
    "import os\n",
    "from functools import partial\n",
    "import torch\n",
    "import numpy as np\n",
    "import pandas as pd\n",
    "import seaborn as sns\n",
    "import matplotlib.pyplot as plt\n",
    "import pyro\n",
    "import pyro.distributions as dist\n",
    "from torch import nn\n",
    "import seaborn as sns\n",
    "from pyro.nn import PyroModule"
   ]
  },
  {
   "cell_type": "code",
   "execution_count": 20,
   "metadata": {},
   "outputs": [],
   "source": [
    "def model():\n",
    "    exo_dist = {\n",
    "        'Nr': dist.Bernoulli(torch.tensor(0.75)),\n",
    "        'Ns': dist.Bernoulli(torch.tensor(0.5)),\n",
    "        'Na': dist.Normal(torch.tensor(0.), torch.tensor(1.))\n",
    "    }\n",
    "    # sample from bernoulli 0 or 1, 0 at 70% freq (made up)\n",
    "    R = pyro.sample(\"R\", exo_dist['Nr'])\n",
    "    S = pyro.sample(\"S\", exo_dist['Ns'])\n",
    "    \n",
    "    # random gaussian dist for ability \n",
    "    A = pyro.sample(\"A\", exo_dist['Na'])\n",
    "    \n",
    "    \n",
    "    G = pyro.sample(\"G\", dist.Normal(A + 3.0 * R + 1.0 * S, 0.5))\n",
    "    \n",
    "    L = pyro.sample(\"L\", dist.Normal(A + 6.0*R + 0.7*S, 0.3))\n",
    "    \n",
    "    F = pyro.sample(\"F\", dist.Normal(A + 3.0*R + 1.2*S, 0.2))\n",
    "\n",
    "trace_handler = pyro.poutine.trace(model)\n",
    "samples = pd.DataFrame(columns=['R', 'S', 'A', 'G', 'L', 'F', 'p'])"
   ]
  },
  {
   "cell_type": "code",
   "execution_count": 71,
   "metadata": {},
   "outputs": [],
   "source": [
    "def GroundTruthModel():\n",
    "    Nr = pyro.sample(\"Nr\",dist.Categorical(torch.tensor([0.75,0.25]))) \n",
    "    Ns = pyro.sample(\"Ns\",dist.Categorical(torch.tensor([0.6,0.4])))\n",
    "    Nk = pyro.sample(\"Nk\",dist.Normal(torch.tensor(0.),torch.tensor(1.))) \n",
    "    \n",
    "    Nr = Nr.type(torch.FloatTensor)\n",
    "    Ns = Ns.type(torch.FloatTensor)\n",
    "    Nk = Nk.type(torch.FloatTensor)\n",
    "   \n",
    "    R     = pyro.sample(\"R\",dist.Delta(Nr))\n",
    "    S     = pyro.sample(\"S\",dist.Delta(Ns))\n",
    "    K     = pyro.sample(\"K\",dist.Delta(Nk))\n",
    "    \n",
    "    \n",
    "    Gval  = K + 2.1* R + 3.3 * S + 0.5 * pyro.sample(\"g\",dist.Normal(torch.tensor(0.),torch.tensor(1.)))\n",
    "    G     = pyro.sample(\"G\",dist.Delta(Gval))\n",
    "    \n",
    "    Lval  = K + 5.8 * R + 0.7 * S + 0.1 * pyro.sample(\"l\",dist.Normal(torch.tensor(0.),torch.tensor(1.)))\n",
    "    L     = pyro.sample(\"L\",dist.Delta(Lval))\n",
    "    \n",
    "    Fval  = K + 2.3 * R + 1.0 * S + 0.3 * pyro.sample(\"f\",dist.Normal(torch.tensor(0.),torch.tensor(1.)))\n",
    "    F     = pyro.sample(\"F\",dist.Delta(Lval))\n",
    "trace_handler = pyro.poutine.trace(GroundTruthModel)\n",
    "samples = pd.DataFrame(columns=['R', 'S', 'K', 'G', 'L', 'F', 'p'])"
   ]
  },
  {
   "cell_type": "code",
   "execution_count": 68,
   "metadata": {},
   "outputs": [],
   "source": [
    "def ProposedModel():\n",
    "    Nr = pyro.sample(\"Nr\",dist.Categorical(torch.tensor([0.75,0.25]))) \n",
    "    Ns = pyro.sample(\"Ns\",dist.Categorical(torch.tensor([0.6,0.4])))\n",
    "    Nk = pyro.sample(\"Nk\",dist.Normal(torch.tensor(0.),torch.tensor(1.))) \n",
    "    \n",
    "    Nr = Nr.type(torch.FloatTensor)\n",
    "    Ns = Ns.type(torch.FloatTensor)\n",
    "    Nk = Nk.type(torch.FloatTensor)\n",
    "   \n",
    "    R     = pyro.sample(\"R\",dist.Delta(Nr))\n",
    "    S     = pyro.sample(\"S\",dist.Delta(Ns))\n",
    "    K     = pyro.sample(\"K\",dist.Delta(Nk))\n",
    "    \n",
    "    \n",
    "    #Gval  = K + 2.1* R + 3.3 * S + 0.5 * pyro.sample(\"g\",dist.Normal(torch.tensor(0.),torch.tensor(1.)))\n",
    "    Gval  = K + alpha* R + beta * S + gama * pyro.sample(\"g\",dist.Normal(torch.tensor(0.),torch.tensor(1.)))\n",
    "    G     = pyro.sample(\"G\",dist.Delta(Gval))\n",
    "    \n",
    "    Lval  = K + alpha * R + beta * S + gama * pyro.sample(\"l\",dist.Normal(torch.tensor(0.),torch.tensor(1.)))\n",
    "    L     = pyro.sample(\"L\",dist.Delta(Lval))\n",
    "    \n",
    "    Fval  = K + alpha * R + beta * S + gama * pyro.sample(\"f\",dist.Normal(torch.tensor(0.),torch.tensor(1.)))\n",
    "    F     = pyro.sample(\"F\",dist.Delta(Lval))\n",
    "trace_handler = pyro.poutine.trace(ProposedModel)\n",
    "samples = pd.DataFrame(columns=['R', 'S', 'K', 'G', 'L', 'F', 'p'])"
   ]
  },
  {
   "cell_type": "code",
   "execution_count": null,
   "metadata": {},
   "outputs": [],
   "source": []
  },
  {
   "cell_type": "markdown",
   "metadata": {},
   "source": [
    "## Unaware Model\n",
    "\n",
    "This model uses only G and L to predict FYA. It is indirectly biased because R/S affect G and L, and also affect F."
   ]
  },
  {
   "cell_type": "code",
   "execution_count": 72,
   "metadata": {},
   "outputs": [
    {
     "data": {
      "text/html": [
       "<div>\n",
       "<style scoped>\n",
       "    .dataframe tbody tr th:only-of-type {\n",
       "        vertical-align: middle;\n",
       "    }\n",
       "\n",
       "    .dataframe tbody tr th {\n",
       "        vertical-align: top;\n",
       "    }\n",
       "\n",
       "    .dataframe thead th {\n",
       "        text-align: right;\n",
       "    }\n",
       "</style>\n",
       "<table border=\"1\" class=\"dataframe\">\n",
       "  <thead>\n",
       "    <tr style=\"text-align: right;\">\n",
       "      <th></th>\n",
       "      <th>R</th>\n",
       "      <th>S</th>\n",
       "      <th>K</th>\n",
       "      <th>G</th>\n",
       "      <th>L</th>\n",
       "      <th>F</th>\n",
       "      <th>p</th>\n",
       "    </tr>\n",
       "  </thead>\n",
       "  <tbody>\n",
       "    <tr>\n",
       "      <td>0</td>\n",
       "      <td>tensor(0.)</td>\n",
       "      <td>tensor(0.)</td>\n",
       "      <td>tensor(0.9915)</td>\n",
       "      <td>tensor(1.7625)</td>\n",
       "      <td>tensor(1.0846)</td>\n",
       "      <td>tensor(1.0846)</td>\n",
       "      <td>tensor(0.0010)</td>\n",
       "    </tr>\n",
       "    <tr>\n",
       "      <td>1</td>\n",
       "      <td>tensor(1.)</td>\n",
       "      <td>tensor(1.)</td>\n",
       "      <td>tensor(1.2165)</td>\n",
       "      <td>tensor(6.1769)</td>\n",
       "      <td>tensor(7.7836)</td>\n",
       "      <td>tensor(7.7836)</td>\n",
       "      <td>tensor(0.0006)</td>\n",
       "    </tr>\n",
       "    <tr>\n",
       "      <td>2</td>\n",
       "      <td>tensor(0.)</td>\n",
       "      <td>tensor(1.)</td>\n",
       "      <td>tensor(-0.1828)</td>\n",
       "      <td>tensor(2.5611)</td>\n",
       "      <td>tensor(0.3730)</td>\n",
       "      <td>tensor(0.3730)</td>\n",
       "      <td>tensor(0.0014)</td>\n",
       "    </tr>\n",
       "    <tr>\n",
       "      <td>3</td>\n",
       "      <td>tensor(0.)</td>\n",
       "      <td>tensor(1.)</td>\n",
       "      <td>tensor(-0.7371)</td>\n",
       "      <td>tensor(2.3370)</td>\n",
       "      <td>tensor(-0.0161)</td>\n",
       "      <td>tensor(-0.0161)</td>\n",
       "      <td>tensor(0.0051)</td>\n",
       "    </tr>\n",
       "    <tr>\n",
       "      <td>4</td>\n",
       "      <td>tensor(0.)</td>\n",
       "      <td>tensor(0.)</td>\n",
       "      <td>tensor(-0.2130)</td>\n",
       "      <td>tensor(-0.2612)</td>\n",
       "      <td>tensor(-0.1149)</td>\n",
       "      <td>tensor(-0.1149)</td>\n",
       "      <td>tensor(0.0060)</td>\n",
       "    </tr>\n",
       "  </tbody>\n",
       "</table>\n",
       "</div>"
      ],
      "text/plain": [
       "            R           S                K                G                L  \\\n",
       "0  tensor(0.)  tensor(0.)   tensor(0.9915)   tensor(1.7625)   tensor(1.0846)   \n",
       "1  tensor(1.)  tensor(1.)   tensor(1.2165)   tensor(6.1769)   tensor(7.7836)   \n",
       "2  tensor(0.)  tensor(1.)  tensor(-0.1828)   tensor(2.5611)   tensor(0.3730)   \n",
       "3  tensor(0.)  tensor(1.)  tensor(-0.7371)   tensor(2.3370)  tensor(-0.0161)   \n",
       "4  tensor(0.)  tensor(0.)  tensor(-0.2130)  tensor(-0.2612)  tensor(-0.1149)   \n",
       "\n",
       "                 F               p  \n",
       "0   tensor(1.0846)  tensor(0.0010)  \n",
       "1   tensor(7.7836)  tensor(0.0006)  \n",
       "2   tensor(0.3730)  tensor(0.0014)  \n",
       "3  tensor(-0.0161)  tensor(0.0051)  \n",
       "4  tensor(-0.1149)  tensor(0.0060)  "
      ]
     },
     "execution_count": 72,
     "metadata": {},
     "output_type": "execute_result"
    }
   ],
   "source": [
    "unaware_sample= []\n",
    "for i in range(1000):\n",
    "    trace = trace_handler.get_trace()\n",
    "    R = trace.nodes['R']['value']\n",
    "    S = trace.nodes['S']['value']\n",
    "    K = trace.nodes['K']['value']\n",
    "    G = trace.nodes['G']['value']\n",
    "    L = trace.nodes['L']['value']\n",
    "    F = trace.nodes['F']['value']\n",
    "    # get prob of each combination\n",
    "    log_prob = trace.log_prob_sum()\n",
    "    p = np.exp(log_prob)\n",
    "    samples = samples.append({'R': R, 'S': S, 'K': K, 'G': G, 'L':L, 'F': F,'p':p}, ignore_index=True)\n",
    "    unaware_sample.append(([G,L,F]))\n",
    "\n",
    "samples.head()"
   ]
  },
  {
   "cell_type": "code",
   "execution_count": 6,
   "metadata": {},
   "outputs": [
    {
     "name": "stdout",
     "output_type": "stream",
     "text": [
      "[iteration 0010] loss: 254.7165\n",
      "[iteration 0020] loss: 723.2779\n",
      "[iteration 0030] loss: 256.2573\n",
      "[iteration 0040] loss: 262.7157\n",
      "[iteration 0050] loss: 241.8103\n",
      "[iteration 0060] loss: 219.4734\n",
      "[iteration 0070] loss: 219.4449\n",
      "[iteration 0080] loss: 217.2629\n",
      "[iteration 0090] loss: 215.2294\n",
      "[iteration 0100] loss: 214.3564\n",
      "[iteration 0110] loss: 213.8715\n",
      "[iteration 0120] loss: 213.5266\n",
      "[iteration 0130] loss: 213.2982\n",
      "[iteration 0140] loss: 213.1590\n",
      "[iteration 0150] loss: 213.0775\n",
      "[iteration 0160] loss: 213.0311\n",
      "[iteration 0170] loss: 213.0052\n",
      "[iteration 0180] loss: 212.9914\n",
      "[iteration 0190] loss: 212.9843\n",
      "[iteration 0200] loss: 212.9807\n",
      "[iteration 0210] loss: 212.9790\n",
      "[iteration 0220] loss: 212.9783\n",
      "[iteration 0230] loss: 212.9780\n",
      "[iteration 0240] loss: 212.9778\n",
      "[iteration 0250] loss: 212.9778\n",
      "[iteration 0260] loss: 212.9777\n",
      "[iteration 0270] loss: 212.9778\n",
      "[iteration 0280] loss: 212.9777\n",
      "[iteration 0290] loss: 212.9777\n",
      "[iteration 0300] loss: 212.9778\n",
      "[iteration 0310] loss: 212.9778\n",
      "[iteration 0320] loss: 212.9777\n",
      "[iteration 0330] loss: 212.9777\n",
      "[iteration 0340] loss: 212.9778\n",
      "[iteration 0350] loss: 212.9778\n",
      "[iteration 0360] loss: 212.9777\n",
      "[iteration 0370] loss: 212.9777\n",
      "[iteration 0380] loss: 212.9778\n",
      "[iteration 0390] loss: 212.9778\n",
      "[iteration 0400] loss: 212.9778\n",
      "[iteration 0410] loss: 212.9778\n",
      "[iteration 0420] loss: 212.9778\n",
      "[iteration 0430] loss: 212.9778\n",
      "[iteration 0440] loss: 212.9778\n",
      "[iteration 0450] loss: 212.9778\n",
      "[iteration 0460] loss: 212.9778\n",
      "[iteration 0470] loss: 212.9778\n",
      "[iteration 0480] loss: 212.9778\n",
      "[iteration 0490] loss: 212.9778\n",
      "[iteration 0500] loss: 212.9778\n",
      "Learned parameters:\n",
      "weight [[0.6166951  0.23242757]]\n",
      "bias [0.10694689]\n"
     ]
    }
   ],
   "source": [
    "# for CI testing\n",
    "smoke_test = ('CI' in os.environ)\n",
    "pyro.enable_validation(True)\n",
    "pyro.set_rng_seed(1)\n",
    "pyro.enable_validation(True)\n",
    "\n",
    "# setup\n",
    "assert issubclass(PyroModule[nn.Linear], nn.Linear)\n",
    "assert issubclass(PyroModule[nn.Linear], PyroModule)\n",
    "\n",
    "#Data to regress\n",
    "unaware_sample = torch.tensor(unaware_sample)\n",
    "x_data, y_data = unaware_sample[:, :-1], unaware_sample[:, -1]\n",
    "\n",
    "# Regression model\n",
    "# 2 = in features, 1=out feature\n",
    "linear_reg_model = PyroModule[nn.Linear](2, 1)\n",
    "\n",
    "# Define loss and optimize\n",
    "loss_fn = torch.nn.MSELoss(reduction='sum')\n",
    "optim = torch.optim.Adam(linear_reg_model.parameters(), lr=0.05)\n",
    "num_iterations = 500 if not smoke_test else 2\n",
    "\n",
    "def train():\n",
    "    # run the model forward on the data\n",
    "    y_pred = linear_reg_model(x_data).squeeze(-1)\n",
    "    # calculate the mse loss\n",
    "    loss = loss_fn(y_pred, y_data)\n",
    "    # initialize gradients to zero\n",
    "    optim.zero_grad()\n",
    "    # backpropagate\n",
    "    loss.backward()\n",
    "    # take a gradient step\n",
    "    optim.step()\n",
    "    return loss\n",
    "\n",
    "for j in range(num_iterations):\n",
    "    loss = train()\n",
    "    if (j + 1) % 10 == 0:\n",
    "        print(\"[iteration %04d] loss: %.4f\" % (j + 1, loss.item()))\n",
    "\n",
    "# Inspect learned parameters\n",
    "print(\"Learned parameters:\")\n",
    "for name, param in linear_reg_model.named_parameters():\n",
    "    print(name, param.data.numpy())"
   ]
  },
  {
   "cell_type": "code",
   "execution_count": 8,
   "metadata": {},
   "outputs": [
    {
     "data": {
      "text/plain": [
       "<AxesSubplot:>"
      ]
     },
     "execution_count": 8,
     "metadata": {},
     "output_type": "execute_result"
    },
    {
     "data": {
      "image/png": "[encoded data removed]",
      "text/plain": [
       "<Figure size 432x288 with 2 Axes>"
      ]
     },
     "metadata": {
      "needs_background": "light"
     },
     "output_type": "display_data"
    }
   ],
   "source": [
    "fit = samples.copy()\n",
    "fit[\"mean\"] = linear_reg_model(x_data).detach().numpy()\n",
    "\n",
    "S1 = fit[fit[\"S\"] == 1]\n",
    "S0 = fit[fit[\"S\"] == 0]\n",
    "R1 = fit[fit[\"R\"] == 1]\n",
    "R0 = fit[fit[\"R\"] == 0]\n",
    "\n",
    "#fig, ax = plt.subplots(nrows=1, ncols=2, figsize=(12, 6), sharey=True)\n",
    "f, (ax1, ax2) = plt.subplots(2)\n",
    "#sns.regplot(x, y, ax=ax1)\n",
    "#sns.kdeplot(x, ax=ax2)\n",
    "\n",
    "#ax[0].hist(R1[\"mean\"], label='Race=1')\n",
    "sns.kdeplot(R1[\"mean\"], ax=ax1,label='Race1')\n",
    "sns.kdeplot(R0[\"mean\"], ax=ax1,label='Race0')\n",
    "sns.kdeplot(S1[\"mean\"], ax=ax2,label='Sex1')\n",
    "sns.kdeplot(S0[\"mean\"], ax=ax2,label='Sex0')\n",
    "#ax[0].hist(R0[\"mean\"], label='Race=0')\n",
    "#ax[0].legend()\n",
    "##ax[1].hist(S1[\"mean\"], label='Sex=1')\n",
    "#ax[1].hist(S0[\"mean\"], label='Sex=0')\n",
    "#ax[1].legend()"
   ]
  },
  {
   "cell_type": "markdown",
   "metadata": {},
   "source": [
    "## Full Model\n",
    "\n",
    "This model uses all observable variables. This has the consequence of using R/S directly in its decision. \n",
    "(Causal model here would show R/S causing FYA as well). "
   ]
  },
  {
   "cell_type": "code",
   "execution_count": 6,
   "metadata": {},
   "outputs": [
    {
     "data": {
      "text/html": [
       "<div>\n",
       "<style scoped>\n",
       "    .dataframe tbody tr th:only-of-type {\n",
       "        vertical-align: middle;\n",
       "    }\n",
       "\n",
       "    .dataframe tbody tr th {\n",
       "        vertical-align: top;\n",
       "    }\n",
       "\n",
       "    .dataframe thead th {\n",
       "        text-align: right;\n",
       "    }\n",
       "</style>\n",
       "<table border=\"1\" class=\"dataframe\">\n",
       "  <thead>\n",
       "    <tr style=\"text-align: right;\">\n",
       "      <th></th>\n",
       "      <th>R</th>\n",
       "      <th>S</th>\n",
       "      <th>A</th>\n",
       "      <th>G</th>\n",
       "      <th>L</th>\n",
       "      <th>F</th>\n",
       "      <th>p</th>\n",
       "    </tr>\n",
       "  </thead>\n",
       "  <tbody>\n",
       "    <tr>\n",
       "      <td>0</td>\n",
       "      <td>tensor(1.)</td>\n",
       "      <td>tensor(1.)</td>\n",
       "      <td>tensor(-0.2148)</td>\n",
       "      <td>tensor(3.8644)</td>\n",
       "      <td>tensor(6.2867)</td>\n",
       "      <td>tensor(3.9767)</td>\n",
       "      <td>tensor(0.2453)</td>\n",
       "    </tr>\n",
       "    <tr>\n",
       "      <td>1</td>\n",
       "      <td>tensor(1.)</td>\n",
       "      <td>tensor(1.)</td>\n",
       "      <td>tensor(-1.8349)</td>\n",
       "      <td>tensor(1.0576)</td>\n",
       "      <td>tensor(4.8782)</td>\n",
       "      <td>tensor(2.6299)</td>\n",
       "      <td>tensor(0.0021)</td>\n",
       "    </tr>\n",
       "    <tr>\n",
       "      <td>2</td>\n",
       "      <td>tensor(1.)</td>\n",
       "      <td>tensor(1.)</td>\n",
       "      <td>tensor(0.2222)</td>\n",
       "      <td>tensor(4.5109)</td>\n",
       "      <td>tensor(6.3931)</td>\n",
       "      <td>tensor(4.4675)</td>\n",
       "      <td>tensor(0.0538)</td>\n",
       "    </tr>\n",
       "    <tr>\n",
       "      <td>3</td>\n",
       "      <td>tensor(1.)</td>\n",
       "      <td>tensor(1.)</td>\n",
       "      <td>tensor(0.8138)</td>\n",
       "      <td>tensor(5.0073)</td>\n",
       "      <td>tensor(7.6763)</td>\n",
       "      <td>tensor(5.1467)</td>\n",
       "      <td>tensor(0.1461)</td>\n",
       "    </tr>\n",
       "    <tr>\n",
       "      <td>4</td>\n",
       "      <td>tensor(1.)</td>\n",
       "      <td>tensor(1.)</td>\n",
       "      <td>tensor(0.5848)</td>\n",
       "      <td>tensor(4.6923)</td>\n",
       "      <td>tensor(7.1621)</td>\n",
       "      <td>tensor(4.7515)</td>\n",
       "      <td>tensor(0.2366)</td>\n",
       "    </tr>\n",
       "  </tbody>\n",
       "</table>\n",
       "</div>"
      ],
      "text/plain": [
       "            R           S                A               G               L  \\\n",
       "0  tensor(1.)  tensor(1.)  tensor(-0.2148)  tensor(3.8644)  tensor(6.2867)   \n",
       "1  tensor(1.)  tensor(1.)  tensor(-1.8349)  tensor(1.0576)  tensor(4.8782)   \n",
       "2  tensor(1.)  tensor(1.)   tensor(0.2222)  tensor(4.5109)  tensor(6.3931)   \n",
       "3  tensor(1.)  tensor(1.)   tensor(0.8138)  tensor(5.0073)  tensor(7.6763)   \n",
       "4  tensor(1.)  tensor(1.)   tensor(0.5848)  tensor(4.6923)  tensor(7.1621)   \n",
       "\n",
       "                F               p  \n",
       "0  tensor(3.9767)  tensor(0.2453)  \n",
       "1  tensor(2.6299)  tensor(0.0021)  \n",
       "2  tensor(4.4675)  tensor(0.0538)  \n",
       "3  tensor(5.1467)  tensor(0.1461)  \n",
       "4  tensor(4.7515)  tensor(0.2366)  "
      ]
     },
     "execution_count": 6,
     "metadata": {},
     "output_type": "execute_result"
    }
   ],
   "source": [
    "samples = pd.DataFrame(columns=['R', 'S', 'K', 'G', 'L', 'F', 'p'])\n",
    "full_sample= []\n",
    "for i in range(1000):\n",
    "    trace = trace_handler.get_trace()\n",
    "    R = trace.nodes['R']['value']\n",
    "    S = trace.nodes['S']['value']\n",
    "    A = trace.nodes['A']['value']\n",
    "    G = trace.nodes['G']['value']\n",
    "    L = trace.nodes['L']['value']\n",
    "    F = trace.nodes['F']['value']\n",
    "    # get prob of each combination\n",
    "    log_prob = trace.log_prob_sum()\n",
    "    p = np.exp(log_prob)\n",
    "    samples=samples.append({'R': R, 'S': S, 'A': A, 'G': G, 'L':L, 'F': F, 'p': p}, ignore_index=True)\n",
    "    full_sample.append(([R,S,G,L,F]))\n",
    "\n",
    "samples.head()"
   ]
  },
  {
   "cell_type": "code",
   "execution_count": 7,
   "metadata": {},
   "outputs": [
    {
     "name": "stdout",
     "output_type": "stream",
     "text": [
      "[iteration 0010] loss: 939.2667\n",
      "[iteration 0020] loss: 484.6627\n",
      "[iteration 0030] loss: 311.3622\n",
      "[iteration 0040] loss: 243.8962\n",
      "[iteration 0050] loss: 215.1655\n",
      "[iteration 0060] loss: 200.6614\n",
      "[iteration 0070] loss: 192.6128\n",
      "[iteration 0080] loss: 187.6876\n",
      "[iteration 0090] loss: 183.6739\n",
      "[iteration 0100] loss: 179.7133\n",
      "[iteration 0110] loss: 175.9093\n",
      "[iteration 0120] loss: 172.2914\n",
      "[iteration 0130] loss: 168.7654\n",
      "[iteration 0140] loss: 165.3324\n",
      "[iteration 0150] loss: 161.9913\n",
      "[iteration 0160] loss: 158.7390\n",
      "[iteration 0170] loss: 155.5786\n",
      "[iteration 0180] loss: 152.5128\n",
      "[iteration 0190] loss: 149.5456\n",
      "[iteration 0200] loss: 146.6809\n",
      "[iteration 0210] loss: 143.9226\n",
      "[iteration 0220] loss: 141.2739\n",
      "[iteration 0230] loss: 138.7371\n",
      "[iteration 0240] loss: 136.3141\n",
      "[iteration 0250] loss: 134.0058\n",
      "[iteration 0260] loss: 131.8123\n",
      "[iteration 0270] loss: 129.7331\n",
      "[iteration 0280] loss: 127.7670\n",
      "[iteration 0290] loss: 125.9122\n",
      "[iteration 0300] loss: 124.1664\n",
      "[iteration 0310] loss: 122.5270\n",
      "[iteration 0320] loss: 120.9907\n",
      "[iteration 0330] loss: 119.5541\n",
      "[iteration 0340] loss: 118.2137\n",
      "[iteration 0350] loss: 116.9655\n",
      "[iteration 0360] loss: 115.8056\n",
      "[iteration 0370] loss: 114.7299\n",
      "[iteration 0380] loss: 113.7343\n",
      "[iteration 0390] loss: 112.8145\n",
      "[iteration 0400] loss: 111.9664\n",
      "[iteration 0410] loss: 111.1859\n",
      "[iteration 0420] loss: 110.4690\n",
      "[iteration 0430] loss: 109.8117\n",
      "[iteration 0440] loss: 109.2101\n",
      "[iteration 0450] loss: 108.6606\n",
      "[iteration 0460] loss: 108.1595\n",
      "[iteration 0470] loss: 107.7034\n",
      "[iteration 0480] loss: 107.2890\n",
      "[iteration 0490] loss: 106.9131\n",
      "[iteration 0500] loss: 106.5728\n",
      "Learned parameters:\n",
      "weight [[-1.5189538   0.49180096  0.28906125  0.6148398 ]]\n",
      "bias [-0.02837581]\n"
     ]
    }
   ],
   "source": [
    "#Data to regress\n",
    "full_sample = torch.tensor(full_sample)\n",
    "x_data, y_data = full_sample[:, :-1], full_sample[:, -1]\n",
    "\n",
    "# Regression model\n",
    "# 2 = in features, 1=out feature\n",
    "linear_reg_model = PyroModule[nn.Linear](4, 1)\n",
    "\n",
    "# Define loss and optimize\n",
    "loss_fn = torch.nn.MSELoss(reduction='sum')\n",
    "optim = torch.optim.Adam(linear_reg_model.parameters(), lr=0.05)\n",
    "num_iterations = 500 if not smoke_test else 2\n",
    "\n",
    "def train():\n",
    "    # run the model forward on the data\n",
    "    y_pred = linear_reg_model(x_data).squeeze(-1)\n",
    "    # calculate the mse loss\n",
    "    loss = loss_fn(y_pred, y_data)\n",
    "    # initialize gradients to zero\n",
    "    optim.zero_grad()\n",
    "    # backpropagate\n",
    "    loss.backward()\n",
    "    # take a gradient step\n",
    "    optim.step()\n",
    "    return loss\n",
    "\n",
    "for j in range(num_iterations):\n",
    "    loss = train()\n",
    "    if (j + 1) % 10 == 0:\n",
    "        print(\"[iteration %04d] loss: %.4f\" % (j + 1, loss.item()))\n",
    "\n",
    "# Inspect learned parameters\n",
    "print(\"Learned parameters:\")\n",
    "for name, param in linear_reg_model.named_parameters():\n",
    "    print(name, param.data.numpy())\n",
    "    "
   ]
  },
  {
   "cell_type": "code",
   "execution_count": 20,
   "metadata": {},
   "outputs": [
    {
     "data": {
      "text/plain": [
       "<AxesSubplot:>"
      ]
     },
     "execution_count": 20,
     "metadata": {},
     "output_type": "execute_result"
    },
    {
     "data": {
      "image/png": "[encoded data removed]",
      "text/plain": [
       "<Figure size 432x288 with 2 Axes>"
      ]
     },
     "metadata": {
      "needs_background": "light"
     },
     "output_type": "display_data"
    }
   ],
   "source": [
    "fit = samples.copy()\n",
    "fit[\"mean\"] = linear_reg_model(x_data).detach().numpy()\n",
    "\n",
    "S1 = fit[fit[\"S\"] == 1]\n",
    "S0 = fit[fit[\"S\"] == 0]\n",
    "R1 = fit[fit[\"R\"] == 1]\n",
    "R0 = fit[fit[\"R\"] == 0]\n",
    "\n",
    "#fig, ax = plt.subplots(nrows=1, ncols=2, figsize=(12, 6), sharey=True)\n",
    "f, (ax1, ax2) = plt.subplots(2)\n",
    "#sns.regplot(x, y, ax=ax1)\n",
    "#sns.kdeplot(x, ax=ax2)\n",
    "\n",
    "#ax[0].hist(R1[\"mean\"], label='Race=1')\n",
    "sns.kdeplot(R1[\"mean\"], ax=ax1,label='Race1')\n",
    "sns.kdeplot(R0[\"mean\"], ax=ax1,label='Race0')\n",
    "sns.kdeplot(S1[\"mean\"], ax=ax2,label='Sex1')\n",
    "sns.kdeplot(S0[\"mean\"], ax=ax2,label='Sex0')\n",
    "#ax[0].hist(R0[\"mean\"], label='Race=0')\n",
    "#ax[0].legend()\n",
    "##ax[1].hist(S1[\"mean\"], label='Sex=1')\n",
    "#ax[1].hist(S0[\"mean\"], label='Sex=0')\n",
    "#ax[1].legend()"
   ]
  },
  {
   "cell_type": "markdown",
   "metadata": {},
   "source": [
    "## Inferring K\n",
    "\n",
    "This model infers K and uses that to predict FYA instead of relying on R,S (which are parents of G,L making those indirectly biased). First trains on all features (including R and S). Then learns K and uses that to predict F."
   ]
  },
  {
   "cell_type": "code",
   "execution_count": 11,
   "metadata": {},
   "outputs": [
    {
     "data": {
      "text/html": [
       "<div>\n",
       "<style scoped>\n",
       "    .dataframe tbody tr th:only-of-type {\n",
       "        vertical-align: middle;\n",
       "    }\n",
       "\n",
       "    .dataframe tbody tr th {\n",
       "        vertical-align: top;\n",
       "    }\n",
       "\n",
       "    .dataframe thead th {\n",
       "        text-align: right;\n",
       "    }\n",
       "</style>\n",
       "<table border=\"1\" class=\"dataframe\">\n",
       "  <thead>\n",
       "    <tr style=\"text-align: right;\">\n",
       "      <th></th>\n",
       "      <th>R</th>\n",
       "      <th>S</th>\n",
       "      <th>K</th>\n",
       "      <th>G</th>\n",
       "      <th>L</th>\n",
       "      <th>F</th>\n",
       "      <th>p</th>\n",
       "    </tr>\n",
       "  </thead>\n",
       "  <tbody>\n",
       "    <tr>\n",
       "      <td>0</td>\n",
       "      <td>tensor(0)</td>\n",
       "      <td>tensor(0)</td>\n",
       "      <td>tensor(0.2571)</td>\n",
       "      <td>tensor(-0.1936)</td>\n",
       "      <td>tensor(0.5012)</td>\n",
       "      <td>tensor(0.3345)</td>\n",
       "      <td>NaN</td>\n",
       "    </tr>\n",
       "    <tr>\n",
       "      <td>1</td>\n",
       "      <td>tensor(0)</td>\n",
       "      <td>tensor(0)</td>\n",
       "      <td>tensor(0.3248)</td>\n",
       "      <td>tensor(0.3746)</td>\n",
       "      <td>tensor(0.4966)</td>\n",
       "      <td>tensor(0.5546)</td>\n",
       "      <td>NaN</td>\n",
       "    </tr>\n",
       "    <tr>\n",
       "      <td>2</td>\n",
       "      <td>tensor(0)</td>\n",
       "      <td>tensor(0)</td>\n",
       "      <td>tensor(0.2424)</td>\n",
       "      <td>tensor(0.6732)</td>\n",
       "      <td>tensor(0.2642)</td>\n",
       "      <td>tensor(0.5121)</td>\n",
       "      <td>NaN</td>\n",
       "    </tr>\n",
       "    <tr>\n",
       "      <td>3</td>\n",
       "      <td>tensor(0)</td>\n",
       "      <td>tensor(0)</td>\n",
       "      <td>tensor(-0.5124)</td>\n",
       "      <td>tensor(-0.6622)</td>\n",
       "      <td>tensor(-0.3127)</td>\n",
       "      <td>tensor(-0.4577)</td>\n",
       "      <td>NaN</td>\n",
       "    </tr>\n",
       "    <tr>\n",
       "      <td>4</td>\n",
       "      <td>tensor(1)</td>\n",
       "      <td>tensor(1)</td>\n",
       "      <td>tensor(2.8238)</td>\n",
       "      <td>tensor(6.9430)</td>\n",
       "      <td>tensor(9.3343)</td>\n",
       "      <td>tensor(7.2996)</td>\n",
       "      <td>NaN</td>\n",
       "    </tr>\n",
       "  </tbody>\n",
       "</table>\n",
       "</div>"
      ],
      "text/plain": [
       "           R          S                K                G                L  \\\n",
       "0  tensor(0)  tensor(0)   tensor(0.2571)  tensor(-0.1936)   tensor(0.5012)   \n",
       "1  tensor(0)  tensor(0)   tensor(0.3248)   tensor(0.3746)   tensor(0.4966)   \n",
       "2  tensor(0)  tensor(0)   tensor(0.2424)   tensor(0.6732)   tensor(0.2642)   \n",
       "3  tensor(0)  tensor(0)  tensor(-0.5124)  tensor(-0.6622)  tensor(-0.3127)   \n",
       "4  tensor(1)  tensor(1)   tensor(2.8238)   tensor(6.9430)   tensor(9.3343)   \n",
       "\n",
       "                 F    p  \n",
       "0   tensor(0.3345)  NaN  \n",
       "1   tensor(0.5546)  NaN  \n",
       "2   tensor(0.5121)  NaN  \n",
       "3  tensor(-0.4577)  NaN  \n",
       "4   tensor(7.2996)  NaN  "
      ]
     },
     "execution_count": 11,
     "metadata": {},
     "output_type": "execute_result"
    }
   ],
   "source": [
    "samples = pd.DataFrame(columns=['R', 'S', 'K', 'G', 'L', 'F', 'p'])\n",
    "aware_sample= []\n",
    "for i in range(1000):\n",
    "    trace = trace_handler.get_trace()\n",
    "    R = trace.nodes['R']['value']\n",
    "    S = trace.nodes['S']['value']\n",
    "    K = trace.nodes['K']['value']\n",
    "    G = trace.nodes['G']['value']\n",
    "    L = trace.nodes['L']['value']\n",
    "    F = trace.nodes['F']['value']\n",
    "    # get prob of each combination\n",
    "    #log_prob = trace.log_prob_sum()\n",
    "    #p = np.exp(log_prob)\n",
    "    samples = samples.append({'R': R, 'S': S, 'K': K, 'G': G, 'L':L, 'F': F}, ignore_index=True)\n",
    "    aware_sample.append(([R,S,F]))\n",
    "\n",
    "samples.head()"
   ]
  },
  {
   "cell_type": "code",
   "execution_count": 12,
   "metadata": {},
   "outputs": [],
   "source": [
    "# assign the observed G and L\n",
    "G=samples.G\n",
    "L=samples.L"
   ]
  },
  {
   "cell_type": "markdown",
   "metadata": {},
   "source": [
    "Iterate through all the generated samples and use the G/L (observed variables) to infer that sample's K."
   ]
  },
  {
   "cell_type": "code",
   "execution_count": 14,
   "metadata": {},
   "outputs": [
    {
     "ename": "RuntimeError",
     "evalue": "log_vml_cpu not implemented for 'Long'",
     "output_type": "error",
     "traceback": [
      "\u001b[1;31m---------------------------------------------------------------------------\u001b[0m",
      "\u001b[1;31mRuntimeError\u001b[0m                              Traceback (most recent call last)",
      "\u001b[1;32m<ipython-input-14-93f4a72514e2>\u001b[0m in \u001b[0;36m<module>\u001b[1;34m\u001b[0m\n\u001b[0;32m      6\u001b[0m \u001b[1;33m\u001b[0m\u001b[0m\n\u001b[0;32m      7\u001b[0m         \u001b[1;31m# use pyro.infer.Importance\u001b[0m\u001b[1;33m\u001b[0m\u001b[1;33m\u001b[0m\u001b[1;33m\u001b[0m\u001b[0m\n\u001b[1;32m----> 8\u001b[1;33m         \u001b[0mposterior\u001b[0m \u001b[1;33m=\u001b[0m \u001b[0mpyro\u001b[0m\u001b[1;33m.\u001b[0m\u001b[0minfer\u001b[0m\u001b[1;33m.\u001b[0m\u001b[0mImportance\u001b[0m\u001b[1;33m(\u001b[0m\u001b[0mconditioned\u001b[0m\u001b[1;33m,\u001b[0m \u001b[0mnum_samples\u001b[0m\u001b[1;33m=\u001b[0m\u001b[1;36m10\u001b[0m\u001b[1;33m)\u001b[0m\u001b[1;33m.\u001b[0m\u001b[0mrun\u001b[0m\u001b[1;33m(\u001b[0m\u001b[1;33m)\u001b[0m\u001b[1;33m\u001b[0m\u001b[1;33m\u001b[0m\u001b[0m\n\u001b[0m\u001b[0;32m      9\u001b[0m         \u001b[0mpost_marginal\u001b[0m \u001b[1;33m=\u001b[0m \u001b[0mpyro\u001b[0m\u001b[1;33m.\u001b[0m\u001b[0minfer\u001b[0m\u001b[1;33m.\u001b[0m\u001b[0mEmpiricalMarginal\u001b[0m\u001b[1;33m(\u001b[0m\u001b[0mposterior\u001b[0m\u001b[1;33m,\u001b[0m \u001b[1;34m\"K\"\u001b[0m\u001b[1;33m)\u001b[0m\u001b[1;33m\u001b[0m\u001b[1;33m\u001b[0m\u001b[0m\n\u001b[0;32m     10\u001b[0m         \u001b[0mpost_samples\u001b[0m \u001b[1;33m=\u001b[0m \u001b[1;33m[\u001b[0m\u001b[0mpost_marginal\u001b[0m\u001b[1;33m(\u001b[0m\u001b[1;33m)\u001b[0m\u001b[1;33m.\u001b[0m\u001b[0mitem\u001b[0m\u001b[1;33m(\u001b[0m\u001b[1;33m)\u001b[0m \u001b[1;32mfor\u001b[0m \u001b[0m_\u001b[0m \u001b[1;32min\u001b[0m \u001b[0mrange\u001b[0m\u001b[1;33m(\u001b[0m\u001b[1;36m10\u001b[0m\u001b[1;33m)\u001b[0m\u001b[1;33m]\u001b[0m\u001b[1;33m\u001b[0m\u001b[1;33m\u001b[0m\u001b[0m\n",
      "\u001b[1;32m~\\Anaconda3\\lib\\site-packages\\pyro\\infer\\abstract_infer.py\u001b[0m in \u001b[0;36mrun\u001b[1;34m(self, *args, **kwargs)\u001b[0m\n\u001b[0;32m    219\u001b[0m         \u001b[0mself\u001b[0m\u001b[1;33m.\u001b[0m\u001b[0m_reset\u001b[0m\u001b[1;33m(\u001b[0m\u001b[1;33m)\u001b[0m\u001b[1;33m\u001b[0m\u001b[1;33m\u001b[0m\u001b[0m\n\u001b[0;32m    220\u001b[0m         \u001b[1;32mwith\u001b[0m \u001b[0mpoutine\u001b[0m\u001b[1;33m.\u001b[0m\u001b[0mblock\u001b[0m\u001b[1;33m(\u001b[0m\u001b[1;33m)\u001b[0m\u001b[1;33m:\u001b[0m\u001b[1;33m\u001b[0m\u001b[1;33m\u001b[0m\u001b[0m\n\u001b[1;32m--> 221\u001b[1;33m             \u001b[1;32mfor\u001b[0m \u001b[0mi\u001b[0m\u001b[1;33m,\u001b[0m \u001b[0mvals\u001b[0m \u001b[1;32min\u001b[0m \u001b[0menumerate\u001b[0m\u001b[1;33m(\u001b[0m\u001b[0mself\u001b[0m\u001b[1;33m.\u001b[0m\u001b[0m_traces\u001b[0m\u001b[1;33m(\u001b[0m\u001b[1;33m*\u001b[0m\u001b[0margs\u001b[0m\u001b[1;33m,\u001b[0m \u001b[1;33m**\u001b[0m\u001b[0mkwargs\u001b[0m\u001b[1;33m)\u001b[0m\u001b[1;33m)\u001b[0m\u001b[1;33m:\u001b[0m\u001b[1;33m\u001b[0m\u001b[1;33m\u001b[0m\u001b[0m\n\u001b[0m\u001b[0;32m    222\u001b[0m                 \u001b[1;32mif\u001b[0m \u001b[0mlen\u001b[0m\u001b[1;33m(\u001b[0m\u001b[0mvals\u001b[0m\u001b[1;33m)\u001b[0m \u001b[1;33m==\u001b[0m \u001b[1;36m2\u001b[0m\u001b[1;33m:\u001b[0m\u001b[1;33m\u001b[0m\u001b[1;33m\u001b[0m\u001b[0m\n\u001b[0;32m    223\u001b[0m                     \u001b[0mchain_id\u001b[0m \u001b[1;33m=\u001b[0m \u001b[1;36m0\u001b[0m\u001b[1;33m\u001b[0m\u001b[1;33m\u001b[0m\u001b[0m\n",
      "\u001b[1;32m~\\Anaconda3\\lib\\site-packages\\pyro\\infer\\importance.py\u001b[0m in \u001b[0;36m_traces\u001b[1;34m(self, *args, **kwargs)\u001b[0m\n\u001b[0;32m     49\u001b[0m             model_trace = poutine.trace(\n\u001b[0;32m     50\u001b[0m                 poutine.replay(self.model, trace=guide_trace)).get_trace(*args, **kwargs)\n\u001b[1;32m---> 51\u001b[1;33m             \u001b[0mlog_weight\u001b[0m \u001b[1;33m=\u001b[0m \u001b[0mmodel_trace\u001b[0m\u001b[1;33m.\u001b[0m\u001b[0mlog_prob_sum\u001b[0m\u001b[1;33m(\u001b[0m\u001b[1;33m)\u001b[0m \u001b[1;33m-\u001b[0m \u001b[0mguide_trace\u001b[0m\u001b[1;33m.\u001b[0m\u001b[0mlog_prob_sum\u001b[0m\u001b[1;33m(\u001b[0m\u001b[1;33m)\u001b[0m\u001b[1;33m\u001b[0m\u001b[1;33m\u001b[0m\u001b[0m\n\u001b[0m\u001b[0;32m     52\u001b[0m             \u001b[1;32myield\u001b[0m \u001b[1;33m(\u001b[0m\u001b[0mmodel_trace\u001b[0m\u001b[1;33m,\u001b[0m \u001b[0mlog_weight\u001b[0m\u001b[1;33m)\u001b[0m\u001b[1;33m\u001b[0m\u001b[1;33m\u001b[0m\u001b[0m\n\u001b[0;32m     53\u001b[0m \u001b[1;33m\u001b[0m\u001b[0m\n",
      "\u001b[1;32m~\\Anaconda3\\lib\\site-packages\\pyro\\poutine\\trace_struct.py\u001b[0m in \u001b[0;36mlog_prob_sum\u001b[1;34m(self, site_filter)\u001b[0m\n\u001b[0;32m    189\u001b[0m                 \u001b[1;32melse\u001b[0m\u001b[1;33m:\u001b[0m\u001b[1;33m\u001b[0m\u001b[1;33m\u001b[0m\u001b[0m\n\u001b[0;32m    190\u001b[0m                     \u001b[1;32mtry\u001b[0m\u001b[1;33m:\u001b[0m\u001b[1;33m\u001b[0m\u001b[1;33m\u001b[0m\u001b[0m\n\u001b[1;32m--> 191\u001b[1;33m                         \u001b[0mlog_p\u001b[0m \u001b[1;33m=\u001b[0m \u001b[0msite\u001b[0m\u001b[1;33m[\u001b[0m\u001b[1;34m\"fn\"\u001b[0m\u001b[1;33m]\u001b[0m\u001b[1;33m.\u001b[0m\u001b[0mlog_prob\u001b[0m\u001b[1;33m(\u001b[0m\u001b[0msite\u001b[0m\u001b[1;33m[\u001b[0m\u001b[1;34m\"value\"\u001b[0m\u001b[1;33m]\u001b[0m\u001b[1;33m,\u001b[0m \u001b[1;33m*\u001b[0m\u001b[0msite\u001b[0m\u001b[1;33m[\u001b[0m\u001b[1;34m\"args\"\u001b[0m\u001b[1;33m]\u001b[0m\u001b[1;33m,\u001b[0m \u001b[1;33m**\u001b[0m\u001b[0msite\u001b[0m\u001b[1;33m[\u001b[0m\u001b[1;34m\"kwargs\"\u001b[0m\u001b[1;33m]\u001b[0m\u001b[1;33m)\u001b[0m\u001b[1;33m\u001b[0m\u001b[1;33m\u001b[0m\u001b[0m\n\u001b[0m\u001b[0;32m    192\u001b[0m                     \u001b[1;32mexcept\u001b[0m \u001b[0mValueError\u001b[0m\u001b[1;33m:\u001b[0m\u001b[1;33m\u001b[0m\u001b[1;33m\u001b[0m\u001b[0m\n\u001b[0;32m    193\u001b[0m                         \u001b[0m_\u001b[0m\u001b[1;33m,\u001b[0m \u001b[0mexc_value\u001b[0m\u001b[1;33m,\u001b[0m \u001b[0mtraceback\u001b[0m \u001b[1;33m=\u001b[0m \u001b[0msys\u001b[0m\u001b[1;33m.\u001b[0m\u001b[0mexc_info\u001b[0m\u001b[1;33m(\u001b[0m\u001b[1;33m)\u001b[0m\u001b[1;33m\u001b[0m\u001b[1;33m\u001b[0m\u001b[0m\n",
      "\u001b[1;32m~\\Anaconda3\\lib\\site-packages\\pyro\\distributions\\delta.py\u001b[0m in \u001b[0;36mlog_prob\u001b[1;34m(self, x)\u001b[0m\n\u001b[0;32m     59\u001b[0m     \u001b[1;32mdef\u001b[0m \u001b[0mlog_prob\u001b[0m\u001b[1;33m(\u001b[0m\u001b[0mself\u001b[0m\u001b[1;33m,\u001b[0m \u001b[0mx\u001b[0m\u001b[1;33m)\u001b[0m\u001b[1;33m:\u001b[0m\u001b[1;33m\u001b[0m\u001b[1;33m\u001b[0m\u001b[0m\n\u001b[0;32m     60\u001b[0m         \u001b[0mv\u001b[0m \u001b[1;33m=\u001b[0m \u001b[0mself\u001b[0m\u001b[1;33m.\u001b[0m\u001b[0mv\u001b[0m\u001b[1;33m.\u001b[0m\u001b[0mexpand\u001b[0m\u001b[1;33m(\u001b[0m\u001b[0mself\u001b[0m\u001b[1;33m.\u001b[0m\u001b[0mshape\u001b[0m\u001b[1;33m(\u001b[0m\u001b[1;33m)\u001b[0m\u001b[1;33m)\u001b[0m\u001b[1;33m\u001b[0m\u001b[1;33m\u001b[0m\u001b[0m\n\u001b[1;32m---> 61\u001b[1;33m         \u001b[0mlog_prob\u001b[0m \u001b[1;33m=\u001b[0m \u001b[1;33m(\u001b[0m\u001b[0mx\u001b[0m \u001b[1;33m==\u001b[0m \u001b[0mv\u001b[0m\u001b[1;33m)\u001b[0m\u001b[1;33m.\u001b[0m\u001b[0mtype\u001b[0m\u001b[1;33m(\u001b[0m\u001b[0mx\u001b[0m\u001b[1;33m.\u001b[0m\u001b[0mdtype\u001b[0m\u001b[1;33m)\u001b[0m\u001b[1;33m.\u001b[0m\u001b[0mlog\u001b[0m\u001b[1;33m(\u001b[0m\u001b[1;33m)\u001b[0m\u001b[1;33m\u001b[0m\u001b[1;33m\u001b[0m\u001b[0m\n\u001b[0m\u001b[0;32m     62\u001b[0m         \u001b[0mlog_prob\u001b[0m \u001b[1;33m=\u001b[0m \u001b[0msum_rightmost\u001b[0m\u001b[1;33m(\u001b[0m\u001b[0mlog_prob\u001b[0m\u001b[1;33m,\u001b[0m \u001b[0mself\u001b[0m\u001b[1;33m.\u001b[0m\u001b[0mevent_dim\u001b[0m\u001b[1;33m)\u001b[0m\u001b[1;33m\u001b[0m\u001b[1;33m\u001b[0m\u001b[0m\n\u001b[0;32m     63\u001b[0m         \u001b[1;32mreturn\u001b[0m \u001b[0mlog_prob\u001b[0m \u001b[1;33m+\u001b[0m \u001b[0mself\u001b[0m\u001b[1;33m.\u001b[0m\u001b[0mlog_density\u001b[0m\u001b[1;33m\u001b[0m\u001b[1;33m\u001b[0m\u001b[0m\n",
      "\u001b[1;31mRuntimeError\u001b[0m: log_vml_cpu not implemented for 'Long'"
     ]
    }
   ],
   "source": [
    "# hold all K values\n",
    "K=[]\n",
    "# iterate through the 1000 samples of G/L and infer K\n",
    "for i in range(1000):\n",
    "        conditioned = pyro.condition(GroundTruthModel, data={\"G\": G[i], \"L\": L[i]})\n",
    "\n",
    "        # use pyro.infer.Importance\n",
    "        posterior = pyro.infer.Importance(conditioned, num_samples=10).run()\n",
    "        post_marginal = pyro.infer.EmpiricalMarginal(posterior, \"K\")\n",
    "        post_samples = [post_marginal().item() for _ in range(10)]\n",
    "        post_unique, post_counts = np.unique(post_samples, return_counts=True)\n",
    "        # calculate the mean of the inferred\n",
    "        mean = np.mean(post_samples)\n",
    "        K.append(mean)"
   ]
  },
  {
   "cell_type": "markdown",
   "metadata": {},
   "source": [
    "Distribution of the Inferred K and the generated K samples "
   ]
  },
  {
   "cell_type": "code",
   "execution_count": 13,
   "metadata": {},
   "outputs": [
    {
     "data": {
      "image/png": "[encoded data removed]",
      "text/plain": [
       "<Figure size 432x288 with 1 Axes>"
      ]
     },
     "metadata": {
      "needs_background": "light"
     },
     "output_type": "display_data"
    }
   ],
   "source": [
    "plt.hist(K)\n",
    "plt.xlim([-3, 4])\n",
    "plt.ylabel(\"Count\")\n",
    "plt.xlabel(\"Inferred K\")\n",
    "plt.show()"
   ]
  },
  {
   "cell_type": "code",
   "execution_count": 14,
   "metadata": {},
   "outputs": [
    {
     "data": {
      "image/png": "[encoded data removed]",
      "text/plain": [
       "<Figure size 432x288 with 1 Axes>"
      ]
     },
     "metadata": {
      "needs_background": "light"
     },
     "output_type": "display_data"
    }
   ],
   "source": [
    "plt.xlim([-3, 4])\n",
    "plt.hist([float(a) for a in samples.A])\n",
    "plt.ylabel(\"Count\")\n",
    "plt.xlabel(\"From calculated samples K\")\n",
    "plt.show()"
   ]
  },
  {
   "cell_type": "markdown",
   "metadata": {},
   "source": [
    "Comparison between some of the rows: \n",
    "\n",
    "You can see how closely the inferred K's managed to be to the \"actual\" K's (which we technically can never know)."
   ]
  },
  {
   "cell_type": "code",
   "execution_count": 77,
   "metadata": {},
   "outputs": [
    {
     "name": "stdout",
     "output_type": "stream",
     "text": [
      "tensor(4.9519) tensor(6.8042) tensor(0.6217) 0.5975077506527304\n",
      "tensor(-1.6271) tensor(-0.7023) tensor(-0.7648) -0.7940110272169113\n",
      "tensor(-2.4467) tensor(-1.9798) tensor(-1.8266) -1.3492836165428161\n",
      "tensor(4.8223) tensor(6.8177) tensor(0.3586) 0.43183394193649294\n"
     ]
    }
   ],
   "source": [
    "for i in range(5, 15, 3):\n",
    "    print(samples.G[i], samples.L[i], samples.A[i], K[i])"
   ]
  },
  {
   "cell_type": "markdown",
   "metadata": {},
   "source": [
    "## Now use our new inferred K into the Linear Reg Model to predict F"
   ]
  },
  {
   "cell_type": "code",
   "execution_count": 78,
   "metadata": {},
   "outputs": [
    {
     "name": "stdout",
     "output_type": "stream",
     "text": [
      "[iteration 0010] loss: 5462.1572\n",
      "[iteration 0020] loss: 3908.5486\n",
      "[iteration 0030] loss: 2875.8650\n",
      "[iteration 0040] loss: 2302.0947\n",
      "[iteration 0050] loss: 2034.3711\n",
      "[iteration 0060] loss: 1937.4626\n",
      "[iteration 0070] loss: 1913.8755\n",
      "[iteration 0080] loss: 1911.6676\n",
      "[iteration 0090] loss: 1912.2784\n",
      "[iteration 0100] loss: 1912.1880\n",
      "[iteration 0110] loss: 1911.8265\n",
      "[iteration 0120] loss: 1911.6245\n",
      "[iteration 0130] loss: 1911.5762\n",
      "[iteration 0140] loss: 1911.5758\n",
      "[iteration 0150] loss: 1911.5771\n",
      "[iteration 0160] loss: 1911.5757\n",
      "[iteration 0170] loss: 1911.5742\n",
      "[iteration 0180] loss: 1911.5742\n",
      "[iteration 0190] loss: 1911.5745\n",
      "[iteration 0200] loss: 1911.5745\n",
      "[iteration 0210] loss: 1911.5742\n",
      "[iteration 0220] loss: 1911.5742\n",
      "[iteration 0230] loss: 1911.5742\n",
      "[iteration 0240] loss: 1911.5743\n",
      "[iteration 0250] loss: 1911.5742\n",
      "[iteration 0260] loss: 1911.5743\n",
      "[iteration 0270] loss: 1911.5742\n",
      "[iteration 0280] loss: 1911.5745\n",
      "[iteration 0290] loss: 1911.5742\n",
      "[iteration 0300] loss: 1911.5742\n",
      "[iteration 0310] loss: 1911.5742\n",
      "[iteration 0320] loss: 1911.5742\n",
      "[iteration 0330] loss: 1911.5742\n",
      "[iteration 0340] loss: 1911.5742\n",
      "[iteration 0350] loss: 1911.5742\n",
      "[iteration 0360] loss: 1911.5742\n",
      "[iteration 0370] loss: 1911.5742\n",
      "[iteration 0380] loss: 1911.5742\n",
      "[iteration 0390] loss: 1911.5742\n",
      "[iteration 0400] loss: 1911.5742\n",
      "[iteration 0410] loss: 1911.5742\n",
      "[iteration 0420] loss: 1911.5742\n",
      "[iteration 0430] loss: 1911.5742\n",
      "[iteration 0440] loss: 1911.5742\n",
      "[iteration 0450] loss: 1911.5742\n",
      "[iteration 0460] loss: 1911.5742\n",
      "[iteration 0470] loss: 1911.5742\n",
      "[iteration 0480] loss: 1911.5742\n",
      "[iteration 0490] loss: 1911.5742\n",
      "[iteration 0500] loss: 1911.5742\n",
      "Learned parameters:\n",
      "weight [[1.1867007]]\n",
      "bias [2.8667595]\n"
     ]
    }
   ],
   "source": [
    "#Data to regress\n",
    "# convert numpy.float64 types to float, then to tensor (x_data = Infered K values, Y_data = FYA values)\n",
    "x_data, y_data = torch.tensor(np.array(K).tolist()), torch.tensor(samples.F)\n",
    "x_data=x_data.resize_(1000,1)\n",
    "\n",
    "# Regression model\n",
    "linear_reg_model = PyroModule[nn.Linear](1, 1)\n",
    "\n",
    "# Define loss and optimize\n",
    "loss_fn = torch.nn.MSELoss(reduction='sum')\n",
    "optim = torch.optim.Adam(linear_reg_model.parameters(), lr=0.05)\n",
    "num_iterations = 500 \n",
    "\n",
    "def train():\n",
    "    # run the model forward on the data\n",
    "    y_pred = linear_reg_model(x_data).squeeze(-1)\n",
    "    # calculate the mse loss\n",
    "    loss = loss_fn(y_pred, y_data)\n",
    "    # initialize gradients to zero\n",
    "    optim.zero_grad()\n",
    "    # backpropagate\n",
    "    loss.backward()\n",
    "    # take a gradient step\n",
    "    optim.step()\n",
    "    return loss\n",
    "\n",
    "for j in range(num_iterations):\n",
    "    loss = train()\n",
    "    if (j + 1) % 10 == 0:\n",
    "        print(\"[iteration %04d] loss: %.4f\" % (j + 1, loss.item()))\n",
    "\n",
    "# Inspect learned parameters\n",
    "print(\"Learned parameters:\")\n",
    "for name, param in linear_reg_model.named_parameters():\n",
    "    print(name, param.data.numpy())"
   ]
  },
  {
   "cell_type": "code",
   "execution_count": 79,
   "metadata": {},
   "outputs": [
    {
     "data": {
      "text/plain": [
       "<matplotlib.legend.Legend at 0x1a30f10710>"
      ]
     },
     "execution_count": 79,
     "metadata": {},
     "output_type": "execute_result"
    },
    {
     "data": {
      "image/png": "[encoded data removed]",
      "text/plain": [
       "<Figure size 864x432 with 2 Axes>"
      ]
     },
     "metadata": {
      "needs_background": "light"
     },
     "output_type": "display_data"
    }
   ],
   "source": [
    "fit = samples.copy()\n",
    "fit[\"mean\"] = linear_reg_model(x_data).detach().numpy()\n",
    "\n",
    "S1 = fit[fit[\"S\"] == 1]\n",
    "S0 = fit[fit[\"S\"] == 0]\n",
    "R1 = fit[fit[\"R\"] == 1]\n",
    "R0 = fit[fit[\"R\"] == 0]\n",
    "\n",
    "fig, ax = plt.subplots(nrows=1, ncols=2, figsize=(12, 6), sharey=True)\n",
    "ax[0].hist(R1[\"mean\"], label='Race=1')\n",
    "ax[0].hist(R0[\"mean\"], label='Race=0')\n",
    "ax[0].legend()\n",
    "ax[1].hist(S1[\"mean\"], label='Sex=1')\n",
    "ax[1].hist(S0[\"mean\"], label='Sex=0')\n",
    "ax[1].legend()"
   ]
  }
 ],
 "metadata": {
  "kernelspec": {
   "display_name": "Python 3",
   "language": "python",
   "name": "python3"
  },
  "language_info": {
   "codemirror_mode": {
    "name": "ipython",
    "version": 3
   },
   "file_extension": ".py",
   "mimetype": "text/x-python",
   "name": "python",
   "nbconvert_exporter": "python",
   "pygments_lexer": "ipython3",
   "version": "3.7.4"
  }
 },
 "nbformat": 4,
 "nbformat_minor": 4
}
