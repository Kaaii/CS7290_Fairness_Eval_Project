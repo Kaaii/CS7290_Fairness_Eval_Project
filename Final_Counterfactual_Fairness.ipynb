{
 "cells": [
  {
   "cell_type": "code",
   "execution_count": 64,
   "metadata": {},
   "outputs": [],
   "source": [
    "import os\n",
    "from functools import partial\n",
    "import torch\n",
    "import numpy as np\n",
    "import pandas as pd\n",
    "import seaborn as sns\n",
    "import matplotlib.pyplot as plt\n",
    "import pyro\n",
    "import pyro.distributions as dist\n",
    "from torch import nn\n",
    "from pyro.nn import PyroModule"
   ]
  },
  {
   "cell_type": "code",
   "execution_count": 65,
   "metadata": {},
   "outputs": [],
   "source": [
    "def model():\n",
    "    exo_dist = {\n",
    "        'Nr': dist.Bernoulli(torch.tensor(0.75)),\n",
    "        'Ns': dist.Bernoulli(torch.tensor(0.5)),\n",
    "        'Na': dist.Normal(torch.tensor(0.), torch.tensor(1.))\n",
    "    }\n",
    "    # sample from bernoulli 0 or 1, 0 at 70% freq (made up)\n",
    "    R = pyro.sample(\"R\", exo_dist['Nr'])\n",
    "    S = pyro.sample(\"S\", exo_dist['Ns'])\n",
    "    \n",
    "    # random gaussian dist for ability \n",
    "    A = pyro.sample(\"A\", exo_dist['Na'])\n",
    "    \n",
    "    \n",
    "    G = pyro.sample(\"G\", dist.Normal(A + 3.0 * R + 1.0 * S, 0.5))\n",
    "    \n",
    "    L = pyro.sample(\"L\", dist.Normal(A + 6.0*R + 0.7*S, 0.3))\n",
    "    \n",
    "    F = pyro.sample(\"F\", dist.Normal(A + 3.0*R + 1.2*S, 0.2))\n",
    "\n",
    "trace_handler = pyro.poutine.trace(model)\n",
    "samples = pd.DataFrame(columns=['R', 'S', 'A', 'G', 'L', 'F', 'p'])"
   ]
  },
  {
   "cell_type": "markdown",
   "metadata": {},
   "source": [
    "## Unaware Model\n",
    "\n",
    "This model uses only G and L to predict FYA. It is indirectly biased because R/S affect G and L, and also affect F."
   ]
  },
  {
   "cell_type": "code",
   "execution_count": 66,
   "metadata": {},
   "outputs": [
    {
     "data": {
      "text/html": [
       "<div>\n",
       "<style scoped>\n",
       "    .dataframe tbody tr th:only-of-type {\n",
       "        vertical-align: middle;\n",
       "    }\n",
       "\n",
       "    .dataframe tbody tr th {\n",
       "        vertical-align: top;\n",
       "    }\n",
       "\n",
       "    .dataframe thead th {\n",
       "        text-align: right;\n",
       "    }\n",
       "</style>\n",
       "<table border=\"1\" class=\"dataframe\">\n",
       "  <thead>\n",
       "    <tr style=\"text-align: right;\">\n",
       "      <th></th>\n",
       "      <th>R</th>\n",
       "      <th>S</th>\n",
       "      <th>A</th>\n",
       "      <th>G</th>\n",
       "      <th>L</th>\n",
       "      <th>F</th>\n",
       "      <th>p</th>\n",
       "    </tr>\n",
       "  </thead>\n",
       "  <tbody>\n",
       "    <tr>\n",
       "      <th>0</th>\n",
       "      <td>tensor(1.)</td>\n",
       "      <td>tensor(1.)</td>\n",
       "      <td>tensor(-0.8753)</td>\n",
       "      <td>tensor(3.0170)</td>\n",
       "      <td>tensor(6.1172)</td>\n",
       "      <td>tensor(3.6819)</td>\n",
       "      <td>tensor(0.0266)</td>\n",
       "    </tr>\n",
       "    <tr>\n",
       "      <th>1</th>\n",
       "      <td>tensor(1.)</td>\n",
       "      <td>tensor(0.)</td>\n",
       "      <td>tensor(1.4034)</td>\n",
       "      <td>tensor(5.6445)</td>\n",
       "      <td>tensor(7.0838)</td>\n",
       "      <td>tensor(4.2440)</td>\n",
       "      <td>tensor(0.0022)</td>\n",
       "    </tr>\n",
       "    <tr>\n",
       "      <th>2</th>\n",
       "      <td>tensor(1.)</td>\n",
       "      <td>tensor(0.)</td>\n",
       "      <td>tensor(0.0414)</td>\n",
       "      <td>tensor(3.3884)</td>\n",
       "      <td>tensor(6.4414)</td>\n",
       "      <td>tensor(2.7227)</td>\n",
       "      <td>tensor(0.0287)</td>\n",
       "    </tr>\n",
       "    <tr>\n",
       "      <th>3</th>\n",
       "      <td>tensor(1.)</td>\n",
       "      <td>tensor(0.)</td>\n",
       "      <td>tensor(-1.5314)</td>\n",
       "      <td>tensor(0.6405)</td>\n",
       "      <td>tensor(3.8910)</td>\n",
       "      <td>tensor(1.6988)</td>\n",
       "      <td>tensor(0.0020)</td>\n",
       "    </tr>\n",
       "    <tr>\n",
       "      <th>4</th>\n",
       "      <td>tensor(0.)</td>\n",
       "      <td>tensor(0.)</td>\n",
       "      <td>tensor(0.6633)</td>\n",
       "      <td>tensor(-0.0230)</td>\n",
       "      <td>tensor(0.9452)</td>\n",
       "      <td>tensor(0.9785)</td>\n",
       "      <td>tensor(0.0061)</td>\n",
       "    </tr>\n",
       "  </tbody>\n",
       "</table>\n",
       "</div>"
      ],
      "text/plain": [
       "            R           S                A                G               L  \\\n",
       "0  tensor(1.)  tensor(1.)  tensor(-0.8753)   tensor(3.0170)  tensor(6.1172)   \n",
       "1  tensor(1.)  tensor(0.)   tensor(1.4034)   tensor(5.6445)  tensor(7.0838)   \n",
       "2  tensor(1.)  tensor(0.)   tensor(0.0414)   tensor(3.3884)  tensor(6.4414)   \n",
       "3  tensor(1.)  tensor(0.)  tensor(-1.5314)   tensor(0.6405)  tensor(3.8910)   \n",
       "4  tensor(0.)  tensor(0.)   tensor(0.6633)  tensor(-0.0230)  tensor(0.9452)   \n",
       "\n",
       "                F               p  \n",
       "0  tensor(3.6819)  tensor(0.0266)  \n",
       "1  tensor(4.2440)  tensor(0.0022)  \n",
       "2  tensor(2.7227)  tensor(0.0287)  \n",
       "3  tensor(1.6988)  tensor(0.0020)  \n",
       "4  tensor(0.9785)  tensor(0.0061)  "
      ]
     },
     "execution_count": 66,
     "metadata": {},
     "output_type": "execute_result"
    }
   ],
   "source": [
    "unaware_sample= []\n",
    "for i in range(1000):\n",
    "    trace = trace_handler.get_trace()\n",
    "    R = trace.nodes['R']['value']\n",
    "    S = trace.nodes['S']['value']\n",
    "    A = trace.nodes['A']['value']\n",
    "    G = trace.nodes['G']['value']\n",
    "    L = trace.nodes['L']['value']\n",
    "    F = trace.nodes['F']['value']\n",
    "    # get prob of each combination\n",
    "    log_prob = trace.log_prob_sum()\n",
    "    p = np.exp(log_prob)\n",
    "    samples = samples.append({'R': R, 'S': S, 'A': A, 'G': G, 'L':L, 'F': F, 'p': p}, ignore_index=True)\n",
    "    unaware_sample.append(([G,L,F]))\n",
    "\n",
    "samples.head()"
   ]
  },
  {
   "cell_type": "code",
   "execution_count": 67,
   "metadata": {},
   "outputs": [
    {
     "name": "stdout",
     "output_type": "stream",
     "text": [
      "[iteration 0010] loss: 243.8745\n",
      "[iteration 0020] loss: 1480.1445\n",
      "[iteration 0030] loss: 310.5370\n",
      "[iteration 0040] loss: 337.1328\n",
      "[iteration 0050] loss: 288.2429\n",
      "[iteration 0060] loss: 234.4080\n",
      "[iteration 0070] loss: 237.0113\n",
      "[iteration 0080] loss: 233.1381\n",
      "[iteration 0090] loss: 228.7472\n",
      "[iteration 0100] loss: 226.7141\n",
      "[iteration 0110] loss: 225.2605\n",
      "[iteration 0120] loss: 223.8921\n",
      "[iteration 0130] loss: 222.6705\n",
      "[iteration 0140] loss: 221.6190\n",
      "[iteration 0150] loss: 220.7199\n",
      "[iteration 0160] loss: 219.9539\n",
      "[iteration 0170] loss: 219.3061\n",
      "[iteration 0180] loss: 218.7630\n",
      "[iteration 0190] loss: 218.3118\n",
      "[iteration 0200] loss: 217.9401\n",
      "[iteration 0210] loss: 217.6367\n",
      "[iteration 0220] loss: 217.3910\n",
      "[iteration 0230] loss: 217.1938\n",
      "[iteration 0240] loss: 217.0366\n",
      "[iteration 0250] loss: 216.9125\n",
      "[iteration 0260] loss: 216.8152\n",
      "[iteration 0270] loss: 216.7395\n",
      "[iteration 0280] loss: 216.6812\n",
      "[iteration 0290] loss: 216.6365\n",
      "[iteration 0300] loss: 216.6026\n",
      "[iteration 0310] loss: 216.5770\n",
      "[iteration 0320] loss: 216.5578\n",
      "[iteration 0330] loss: 216.5436\n",
      "[iteration 0340] loss: 216.5331\n",
      "[iteration 0350] loss: 216.5255\n",
      "[iteration 0360] loss: 216.5199\n",
      "[iteration 0370] loss: 216.5159\n",
      "[iteration 0380] loss: 216.5130\n",
      "[iteration 0390] loss: 216.5110\n",
      "[iteration 0400] loss: 216.5096\n",
      "[iteration 0410] loss: 216.5085\n",
      "[iteration 0420] loss: 216.5078\n",
      "[iteration 0430] loss: 216.5074\n",
      "[iteration 0440] loss: 216.5070\n",
      "[iteration 0450] loss: 216.5068\n",
      "[iteration 0460] loss: 216.5067\n",
      "[iteration 0470] loss: 216.5066\n",
      "[iteration 0480] loss: 216.5065\n",
      "[iteration 0490] loss: 216.5065\n",
      "[iteration 0500] loss: 216.5064\n",
      "Learned parameters:\n",
      "weight [[0.59605485 0.23083921]]\n",
      "bias [0.09249058]\n"
     ]
    }
   ],
   "source": [
    "# for CI testing\n",
    "smoke_test = ('CI' in os.environ)\n",
    "pyro.enable_validation(True)\n",
    "pyro.set_rng_seed(1)\n",
    "pyro.enable_validation(True)\n",
    "\n",
    "# setup\n",
    "assert issubclass(PyroModule[nn.Linear], nn.Linear)\n",
    "assert issubclass(PyroModule[nn.Linear], PyroModule)\n",
    "\n",
    "#Data to regress\n",
    "unaware_sample = torch.tensor(unaware_sample)\n",
    "x_data, y_data = unaware_sample[:, :-1], unaware_sample[:, -1]\n",
    "\n",
    "# Regression model\n",
    "# 2 = in features, 1=out feature\n",
    "linear_reg_model = PyroModule[nn.Linear](2, 1)\n",
    "\n",
    "# Define loss and optimize\n",
    "loss_fn = torch.nn.MSELoss(reduction='sum')\n",
    "optim = torch.optim.Adam(linear_reg_model.parameters(), lr=0.05)\n",
    "num_iterations = 500 if not smoke_test else 2\n",
    "\n",
    "def train():\n",
    "    # run the model forward on the data\n",
    "    y_pred = linear_reg_model(x_data).squeeze(-1)\n",
    "    # calculate the mse loss\n",
    "    loss = loss_fn(y_pred, y_data)\n",
    "    # initialize gradients to zero\n",
    "    optim.zero_grad()\n",
    "    # backpropagate\n",
    "    loss.backward()\n",
    "    # take a gradient step\n",
    "    optim.step()\n",
    "    return loss\n",
    "\n",
    "for j in range(num_iterations):\n",
    "    loss = train()\n",
    "    if (j + 1) % 10 == 0:\n",
    "        print(\"[iteration %04d] loss: %.4f\" % (j + 1, loss.item()))\n",
    "\n",
    "# Inspect learned parameters\n",
    "print(\"Learned parameters:\")\n",
    "for name, param in linear_reg_model.named_parameters():\n",
    "    print(name, param.data.numpy())"
   ]
  },
  {
   "cell_type": "code",
   "execution_count": 68,
   "metadata": {},
   "outputs": [
    {
     "data": {
      "text/plain": [
       "<matplotlib.legend.Legend at 0x1a3071b990>"
      ]
     },
     "execution_count": 68,
     "metadata": {},
     "output_type": "execute_result"
    },
    {
     "data": {
      "image/png": "[encoded data removed]",
      "text/plain": [
       "<Figure size 864x432 with 2 Axes>"
      ]
     },
     "metadata": {
      "needs_background": "light"
     },
     "output_type": "display_data"
    }
   ],
   "source": [
    "fit = samples.copy()\n",
    "fit[\"mean\"] = linear_reg_model(x_data).detach().numpy()\n",
    "\n",
    "S1 = fit[fit[\"S\"] == 1]\n",
    "S0 = fit[fit[\"S\"] == 0]\n",
    "R1 = fit[fit[\"R\"] == 1]\n",
    "R0 = fit[fit[\"R\"] == 0]\n",
    "\n",
    "fig, ax = plt.subplots(nrows=1, ncols=2, figsize=(12, 6), sharey=True)\n",
    "ax[0].hist(R1[\"mean\"], label='Race=1')\n",
    "ax[0].hist(R0[\"mean\"], label='Race=0')\n",
    "ax[0].legend()\n",
    "ax[1].hist(S1[\"mean\"], label='Sex=1')\n",
    "ax[1].hist(S0[\"mean\"], label='Sex=0')\n",
    "ax[1].legend()\n"
   ]
  },
  {
   "cell_type": "markdown",
   "metadata": {},
   "source": [
    "## Full Model\n",
    "\n",
    "This model uses all observable variables. This has the consequence of using R/S directly in its decision. \n",
    "(Causal model here would show R/S causing FYA as well). "
   ]
  },
  {
   "cell_type": "code",
   "execution_count": 69,
   "metadata": {},
   "outputs": [
    {
     "data": {
      "text/html": [
       "<div>\n",
       "<style scoped>\n",
       "    .dataframe tbody tr th:only-of-type {\n",
       "        vertical-align: middle;\n",
       "    }\n",
       "\n",
       "    .dataframe tbody tr th {\n",
       "        vertical-align: top;\n",
       "    }\n",
       "\n",
       "    .dataframe thead th {\n",
       "        text-align: right;\n",
       "    }\n",
       "</style>\n",
       "<table border=\"1\" class=\"dataframe\">\n",
       "  <thead>\n",
       "    <tr style=\"text-align: right;\">\n",
       "      <th></th>\n",
       "      <th>R</th>\n",
       "      <th>S</th>\n",
       "      <th>A</th>\n",
       "      <th>G</th>\n",
       "      <th>L</th>\n",
       "      <th>F</th>\n",
       "      <th>p</th>\n",
       "    </tr>\n",
       "  </thead>\n",
       "  <tbody>\n",
       "    <tr>\n",
       "      <th>0</th>\n",
       "      <td>tensor(1.)</td>\n",
       "      <td>tensor(1.)</td>\n",
       "      <td>tensor(-0.2148)</td>\n",
       "      <td>tensor(3.8644)</td>\n",
       "      <td>tensor(6.2867)</td>\n",
       "      <td>tensor(3.9767)</td>\n",
       "      <td>tensor(0.2453)</td>\n",
       "    </tr>\n",
       "    <tr>\n",
       "      <th>1</th>\n",
       "      <td>tensor(1.)</td>\n",
       "      <td>tensor(1.)</td>\n",
       "      <td>tensor(-1.8349)</td>\n",
       "      <td>tensor(1.0576)</td>\n",
       "      <td>tensor(4.8782)</td>\n",
       "      <td>tensor(2.6299)</td>\n",
       "      <td>tensor(0.0021)</td>\n",
       "    </tr>\n",
       "    <tr>\n",
       "      <th>2</th>\n",
       "      <td>tensor(1.)</td>\n",
       "      <td>tensor(1.)</td>\n",
       "      <td>tensor(0.2222)</td>\n",
       "      <td>tensor(4.5109)</td>\n",
       "      <td>tensor(6.3931)</td>\n",
       "      <td>tensor(4.4675)</td>\n",
       "      <td>tensor(0.0538)</td>\n",
       "    </tr>\n",
       "    <tr>\n",
       "      <th>3</th>\n",
       "      <td>tensor(1.)</td>\n",
       "      <td>tensor(1.)</td>\n",
       "      <td>tensor(0.8138)</td>\n",
       "      <td>tensor(5.0073)</td>\n",
       "      <td>tensor(7.6763)</td>\n",
       "      <td>tensor(5.1467)</td>\n",
       "      <td>tensor(0.1461)</td>\n",
       "    </tr>\n",
       "    <tr>\n",
       "      <th>4</th>\n",
       "      <td>tensor(1.)</td>\n",
       "      <td>tensor(1.)</td>\n",
       "      <td>tensor(0.5848)</td>\n",
       "      <td>tensor(4.6923)</td>\n",
       "      <td>tensor(7.1621)</td>\n",
       "      <td>tensor(4.7515)</td>\n",
       "      <td>tensor(0.2366)</td>\n",
       "    </tr>\n",
       "  </tbody>\n",
       "</table>\n",
       "</div>"
      ],
      "text/plain": [
       "            R           S                A               G               L  \\\n",
       "0  tensor(1.)  tensor(1.)  tensor(-0.2148)  tensor(3.8644)  tensor(6.2867)   \n",
       "1  tensor(1.)  tensor(1.)  tensor(-1.8349)  tensor(1.0576)  tensor(4.8782)   \n",
       "2  tensor(1.)  tensor(1.)   tensor(0.2222)  tensor(4.5109)  tensor(6.3931)   \n",
       "3  tensor(1.)  tensor(1.)   tensor(0.8138)  tensor(5.0073)  tensor(7.6763)   \n",
       "4  tensor(1.)  tensor(1.)   tensor(0.5848)  tensor(4.6923)  tensor(7.1621)   \n",
       "\n",
       "                F               p  \n",
       "0  tensor(3.9767)  tensor(0.2453)  \n",
       "1  tensor(2.6299)  tensor(0.0021)  \n",
       "2  tensor(4.4675)  tensor(0.0538)  \n",
       "3  tensor(5.1467)  tensor(0.1461)  \n",
       "4  tensor(4.7515)  tensor(0.2366)  "
      ]
     },
     "execution_count": 69,
     "metadata": {},
     "output_type": "execute_result"
    }
   ],
   "source": [
    "samples = pd.DataFrame(columns=['R', 'S', 'A', 'G', 'L', 'F', 'p'])\n",
    "full_sample= []\n",
    "for i in range(1000):\n",
    "    trace = trace_handler.get_trace()\n",
    "    R = trace.nodes['R']['value']\n",
    "    S = trace.nodes['S']['value']\n",
    "    A = trace.nodes['A']['value']\n",
    "    G = trace.nodes['G']['value']\n",
    "    L = trace.nodes['L']['value']\n",
    "    F = trace.nodes['F']['value']\n",
    "    # get prob of each combination\n",
    "    log_prob = trace.log_prob_sum()\n",
    "    p = np.exp(log_prob)\n",
    "    samples=samples.append({'R': R, 'S': S, 'A': A, 'G': G, 'L':L, 'F': F, 'p': p}, ignore_index=True)\n",
    "    full_sample.append(([R,S,G,L,F]))\n",
    "\n",
    "samples.head()"
   ]
  },
  {
   "cell_type": "code",
   "execution_count": 70,
   "metadata": {},
   "outputs": [
    {
     "name": "stdout",
     "output_type": "stream",
     "text": [
      "[iteration 0010] loss: 939.2668\n",
      "[iteration 0020] loss: 484.6628\n",
      "[iteration 0030] loss: 311.3622\n",
      "[iteration 0040] loss: 243.8962\n",
      "[iteration 0050] loss: 215.1656\n",
      "[iteration 0060] loss: 200.6614\n",
      "[iteration 0070] loss: 192.6128\n",
      "[iteration 0080] loss: 187.6876\n",
      "[iteration 0090] loss: 183.6739\n",
      "[iteration 0100] loss: 179.7133\n",
      "[iteration 0110] loss: 175.9093\n",
      "[iteration 0120] loss: 172.2914\n",
      "[iteration 0130] loss: 168.7654\n",
      "[iteration 0140] loss: 165.3324\n",
      "[iteration 0150] loss: 161.9913\n",
      "[iteration 0160] loss: 158.7390\n",
      "[iteration 0170] loss: 155.5786\n",
      "[iteration 0180] loss: 152.5128\n",
      "[iteration 0190] loss: 149.5456\n",
      "[iteration 0200] loss: 146.6809\n",
      "[iteration 0210] loss: 143.9226\n",
      "[iteration 0220] loss: 141.2739\n",
      "[iteration 0230] loss: 138.7371\n",
      "[iteration 0240] loss: 136.3141\n",
      "[iteration 0250] loss: 134.0058\n",
      "[iteration 0260] loss: 131.8123\n",
      "[iteration 0270] loss: 129.7331\n",
      "[iteration 0280] loss: 127.7670\n",
      "[iteration 0290] loss: 125.9122\n",
      "[iteration 0300] loss: 124.1664\n",
      "[iteration 0310] loss: 122.5269\n",
      "[iteration 0320] loss: 120.9906\n",
      "[iteration 0330] loss: 119.5541\n",
      "[iteration 0340] loss: 118.2137\n",
      "[iteration 0350] loss: 116.9655\n",
      "[iteration 0360] loss: 115.8056\n",
      "[iteration 0370] loss: 114.7299\n",
      "[iteration 0380] loss: 113.7343\n",
      "[iteration 0390] loss: 112.8145\n",
      "[iteration 0400] loss: 111.9664\n",
      "[iteration 0410] loss: 111.1859\n",
      "[iteration 0420] loss: 110.4690\n",
      "[iteration 0430] loss: 109.8117\n",
      "[iteration 0440] loss: 109.2101\n",
      "[iteration 0450] loss: 108.6606\n",
      "[iteration 0460] loss: 108.1595\n",
      "[iteration 0470] loss: 107.7034\n",
      "[iteration 0480] loss: 107.2890\n",
      "[iteration 0490] loss: 106.9131\n",
      "[iteration 0500] loss: 106.5728\n",
      "Learned parameters:\n",
      "weight [[-1.5189538   0.49180093  0.28906122  0.6148398 ]]\n",
      "bias [-0.02837583]\n"
     ]
    }
   ],
   "source": [
    "#Data to regress\n",
    "full_sample = torch.tensor(full_sample)\n",
    "x_data, y_data = full_sample[:, :-1], full_sample[:, -1]\n",
    "\n",
    "# Regression model\n",
    "# 2 = in features, 1=out feature\n",
    "linear_reg_model = PyroModule[nn.Linear](4, 1)\n",
    "\n",
    "# Define loss and optimize\n",
    "loss_fn = torch.nn.MSELoss(reduction='sum')\n",
    "optim = torch.optim.Adam(linear_reg_model.parameters(), lr=0.05)\n",
    "num_iterations = 500 if not smoke_test else 2\n",
    "\n",
    "def train():\n",
    "    # run the model forward on the data\n",
    "    y_pred = linear_reg_model(x_data).squeeze(-1)\n",
    "    # calculate the mse loss\n",
    "    loss = loss_fn(y_pred, y_data)\n",
    "    # initialize gradients to zero\n",
    "    optim.zero_grad()\n",
    "    # backpropagate\n",
    "    loss.backward()\n",
    "    # take a gradient step\n",
    "    optim.step()\n",
    "    return loss\n",
    "\n",
    "for j in range(num_iterations):\n",
    "    loss = train()\n",
    "    if (j + 1) % 10 == 0:\n",
    "        print(\"[iteration %04d] loss: %.4f\" % (j + 1, loss.item()))\n",
    "\n",
    "# Inspect learned parameters\n",
    "print(\"Learned parameters:\")\n",
    "for name, param in linear_reg_model.named_parameters():\n",
    "    print(name, param.data.numpy())\n",
    "    "
   ]
  },
  {
   "cell_type": "code",
   "execution_count": 71,
   "metadata": {},
   "outputs": [
    {
     "data": {
      "text/plain": [
       "<matplotlib.legend.Legend at 0x1a30a24690>"
      ]
     },
     "execution_count": 71,
     "metadata": {},
     "output_type": "execute_result"
    },
    {
     "data": {
      "image/png": "[encoded data removed]",
      "text/plain": [
       "<Figure size 864x432 with 2 Axes>"
      ]
     },
     "metadata": {
      "needs_background": "light"
     },
     "output_type": "display_data"
    }
   ],
   "source": [
    "fit = samples.copy()\n",
    "fit[\"mean\"] = linear_reg_model(x_data).detach().numpy()\n",
    "\n",
    "S1 = fit[fit[\"S\"] == 1]\n",
    "S0 = fit[fit[\"S\"] == 0]\n",
    "R1 = fit[fit[\"R\"] == 1]\n",
    "R0 = fit[fit[\"R\"] == 0]\n",
    "\n",
    "fig, ax = plt.subplots(nrows=1, ncols=2, figsize=(12, 6), sharey=True)\n",
    "ax[0].hist(R1[\"mean\"], label='Race=1')\n",
    "ax[0].hist(R0[\"mean\"], label='Race=0')\n",
    "ax[0].legend()\n",
    "ax[1].hist(S1[\"mean\"], label='Sex=1')\n",
    "ax[1].hist(S0[\"mean\"], label='Sex=0')\n",
    "ax[1].legend()"
   ]
  },
  {
   "cell_type": "markdown",
   "metadata": {},
   "source": [
    "## Inferring K\n",
    "\n",
    "This model infers K and uses that to predict FYA instead of relying on R,S (which are parents of G,L making those indirectly biased). First trains on all features (including R and S). Then learns K and uses that to predict F."
   ]
  },
  {
   "cell_type": "code",
   "execution_count": 72,
   "metadata": {},
   "outputs": [
    {
     "data": {
      "text/html": [
       "<div>\n",
       "<style scoped>\n",
       "    .dataframe tbody tr th:only-of-type {\n",
       "        vertical-align: middle;\n",
       "    }\n",
       "\n",
       "    .dataframe tbody tr th {\n",
       "        vertical-align: top;\n",
       "    }\n",
       "\n",
       "    .dataframe thead th {\n",
       "        text-align: right;\n",
       "    }\n",
       "</style>\n",
       "<table border=\"1\" class=\"dataframe\">\n",
       "  <thead>\n",
       "    <tr style=\"text-align: right;\">\n",
       "      <th></th>\n",
       "      <th>R</th>\n",
       "      <th>S</th>\n",
       "      <th>A</th>\n",
       "      <th>G</th>\n",
       "      <th>L</th>\n",
       "      <th>F</th>\n",
       "      <th>p</th>\n",
       "    </tr>\n",
       "  </thead>\n",
       "  <tbody>\n",
       "    <tr>\n",
       "      <th>0</th>\n",
       "      <td>tensor(1.)</td>\n",
       "      <td>tensor(0.)</td>\n",
       "      <td>tensor(-1.4274)</td>\n",
       "      <td>tensor(0.8567)</td>\n",
       "      <td>tensor(4.4184)</td>\n",
       "      <td>tensor(1.5062)</td>\n",
       "      <td>tensor(0.0340)</td>\n",
       "    </tr>\n",
       "    <tr>\n",
       "      <th>1</th>\n",
       "      <td>tensor(0.)</td>\n",
       "      <td>tensor(1.)</td>\n",
       "      <td>tensor(0.1284)</td>\n",
       "      <td>tensor(1.1131)</td>\n",
       "      <td>tensor(0.8524)</td>\n",
       "      <td>tensor(1.2565)</td>\n",
       "      <td>tensor(0.0978)</td>\n",
       "    </tr>\n",
       "    <tr>\n",
       "      <th>2</th>\n",
       "      <td>tensor(1.)</td>\n",
       "      <td>tensor(0.)</td>\n",
       "      <td>tensor(-0.2036)</td>\n",
       "      <td>tensor(2.2836)</td>\n",
       "      <td>tensor(6.5223)</td>\n",
       "      <td>tensor(3.0098)</td>\n",
       "      <td>tensor(0.0056)</td>\n",
       "    </tr>\n",
       "    <tr>\n",
       "      <th>3</th>\n",
       "      <td>tensor(1.)</td>\n",
       "      <td>tensor(0.)</td>\n",
       "      <td>tensor(0.7527)</td>\n",
       "      <td>tensor(4.0444)</td>\n",
       "      <td>tensor(6.5480)</td>\n",
       "      <td>tensor(4.0497)</td>\n",
       "      <td>tensor(0.0530)</td>\n",
       "    </tr>\n",
       "    <tr>\n",
       "      <th>4</th>\n",
       "      <td>tensor(1.)</td>\n",
       "      <td>tensor(0.)</td>\n",
       "      <td>tensor(-0.8414)</td>\n",
       "      <td>tensor(1.9500)</td>\n",
       "      <td>tensor(5.2409)</td>\n",
       "      <td>tensor(1.8642)</td>\n",
       "      <td>tensor(0.0664)</td>\n",
       "    </tr>\n",
       "  </tbody>\n",
       "</table>\n",
       "</div>"
      ],
      "text/plain": [
       "            R           S                A               G               L  \\\n",
       "0  tensor(1.)  tensor(0.)  tensor(-1.4274)  tensor(0.8567)  tensor(4.4184)   \n",
       "1  tensor(0.)  tensor(1.)   tensor(0.1284)  tensor(1.1131)  tensor(0.8524)   \n",
       "2  tensor(1.)  tensor(0.)  tensor(-0.2036)  tensor(2.2836)  tensor(6.5223)   \n",
       "3  tensor(1.)  tensor(0.)   tensor(0.7527)  tensor(4.0444)  tensor(6.5480)   \n",
       "4  tensor(1.)  tensor(0.)  tensor(-0.8414)  tensor(1.9500)  tensor(5.2409)   \n",
       "\n",
       "                F               p  \n",
       "0  tensor(1.5062)  tensor(0.0340)  \n",
       "1  tensor(1.2565)  tensor(0.0978)  \n",
       "2  tensor(3.0098)  tensor(0.0056)  \n",
       "3  tensor(4.0497)  tensor(0.0530)  \n",
       "4  tensor(1.8642)  tensor(0.0664)  "
      ]
     },
     "execution_count": 72,
     "metadata": {},
     "output_type": "execute_result"
    }
   ],
   "source": [
    "samples = pd.DataFrame(columns=['R', 'S', 'A', 'G', 'L', 'F', 'p'])\n",
    "aware_sample= []\n",
    "for i in range(1000):\n",
    "    trace = trace_handler.get_trace()\n",
    "    R = trace.nodes['R']['value']\n",
    "    S = trace.nodes['S']['value']\n",
    "    A = trace.nodes['A']['value']\n",
    "    G = trace.nodes['G']['value']\n",
    "    L = trace.nodes['L']['value']\n",
    "    F = trace.nodes['F']['value']\n",
    "    # get prob of each combination\n",
    "    log_prob = trace.log_prob_sum()\n",
    "    p = np.exp(log_prob)\n",
    "    samples = samples.append({'R': R, 'S': S, 'A': A, 'G': G, 'L':L, 'F': F, 'p': p}, ignore_index=True)\n",
    "    aware_sample.append(([R,S,F]))\n",
    "\n",
    "samples.head()"
   ]
  },
  {
   "cell_type": "code",
   "execution_count": 73,
   "metadata": {},
   "outputs": [],
   "source": [
    "# assign the observed G and L\n",
    "G=samples.G\n",
    "L=samples.L"
   ]
  },
  {
   "cell_type": "markdown",
   "metadata": {},
   "source": [
    "Iterate through all the generated samples and use the G/L (observed variables) to infer that sample's K."
   ]
  },
  {
   "cell_type": "code",
   "execution_count": 74,
   "metadata": {},
   "outputs": [],
   "source": [
    "# hold all K values\n",
    "K=[]\n",
    "# iterate through the 1000 samples of G/L and infer K\n",
    "for i in range(1000):\n",
    "        conditioned = pyro.condition(model, data={\"G\": G[i], \"L\": L[i]})\n",
    "\n",
    "        # use pyro.infer.Importance\n",
    "        posterior = pyro.infer.Importance(conditioned, num_samples=100).run()\n",
    "        post_marginal = pyro.infer.EmpiricalMarginal(posterior, \"A\")\n",
    "        post_samples = [post_marginal().item() for _ in range(100)]\n",
    "        post_unique, post_counts = np.unique(post_samples, return_counts=True)\n",
    "        # calculate the mean of the inferred\n",
    "        mean = np.mean(post_samples)\n",
    "        K.append(mean)"
   ]
  },
  {
   "cell_type": "markdown",
   "metadata": {},
   "source": [
    "Distribution of the Inferred K and the generated K samples "
   ]
  },
  {
   "cell_type": "code",
   "execution_count": 75,
   "metadata": {},
   "outputs": [
    {
     "data": {
      "image/png": "[encoded data removed]",
      "text/plain": [
       "<Figure size 432x288 with 1 Axes>"
      ]
     },
     "metadata": {
      "needs_background": "light"
     },
     "output_type": "display_data"
    }
   ],
   "source": [
    "plt.hist(K)\n",
    "plt.ylabel(\"Count\")\n",
    "plt.xlabel(\"Inferred K\")\n",
    "plt.show()"
   ]
  },
  {
   "cell_type": "code",
   "execution_count": 76,
   "metadata": {},
   "outputs": [
    {
     "data": {
      "image/png": "[encoded data removed]",
      "text/plain": [
       "<Figure size 432x288 with 1 Axes>"
      ]
     },
     "metadata": {
      "needs_background": "light"
     },
     "output_type": "display_data"
    }
   ],
   "source": [
    "plt.hist([float(a) for a in samples.A])\n",
    "plt.ylabel(\"Count\")\n",
    "plt.xlabel(\"From calculated samples K\")\n",
    "plt.show()"
   ]
  },
  {
   "cell_type": "markdown",
   "metadata": {},
   "source": [
    "Comparison between some of the rows: \n",
    "\n",
    "You can see how closely the inferred K's managed to be to the \"actual\" K's (which we technically can never know)."
   ]
  },
  {
   "cell_type": "code",
   "execution_count": 77,
   "metadata": {},
   "outputs": [
    {
     "name": "stdout",
     "output_type": "stream",
     "text": [
      "tensor(4.9519) tensor(6.8042) tensor(0.6217) 0.5975077506527304\n",
      "tensor(-1.6271) tensor(-0.7023) tensor(-0.7648) -0.7940110272169113\n",
      "tensor(-2.4467) tensor(-1.9798) tensor(-1.8266) -1.3492836165428161\n",
      "tensor(4.8223) tensor(6.8177) tensor(0.3586) 0.43183394193649294\n"
     ]
    }
   ],
   "source": [
    "for i in range(5, 15, 3):\n",
    "    print(samples.G[i], samples.L[i], samples.A[i], K[i])"
   ]
  },
  {
   "cell_type": "markdown",
   "metadata": {},
   "source": [
    "## Now use our new inferred K into the Linear Reg Model to predict F"
   ]
  },
  {
   "cell_type": "code",
   "execution_count": 78,
   "metadata": {},
   "outputs": [
    {
     "name": "stdout",
     "output_type": "stream",
     "text": [
      "[iteration 0010] loss: 5462.1572\n",
      "[iteration 0020] loss: 3908.5486\n",
      "[iteration 0030] loss: 2875.8650\n",
      "[iteration 0040] loss: 2302.0947\n",
      "[iteration 0050] loss: 2034.3711\n",
      "[iteration 0060] loss: 1937.4626\n",
      "[iteration 0070] loss: 1913.8755\n",
      "[iteration 0080] loss: 1911.6676\n",
      "[iteration 0090] loss: 1912.2784\n",
      "[iteration 0100] loss: 1912.1880\n",
      "[iteration 0110] loss: 1911.8265\n",
      "[iteration 0120] loss: 1911.6245\n",
      "[iteration 0130] loss: 1911.5762\n",
      "[iteration 0140] loss: 1911.5758\n",
      "[iteration 0150] loss: 1911.5771\n",
      "[iteration 0160] loss: 1911.5757\n",
      "[iteration 0170] loss: 1911.5742\n",
      "[iteration 0180] loss: 1911.5742\n",
      "[iteration 0190] loss: 1911.5745\n",
      "[iteration 0200] loss: 1911.5745\n",
      "[iteration 0210] loss: 1911.5742\n",
      "[iteration 0220] loss: 1911.5742\n",
      "[iteration 0230] loss: 1911.5742\n",
      "[iteration 0240] loss: 1911.5743\n",
      "[iteration 0250] loss: 1911.5742\n",
      "[iteration 0260] loss: 1911.5743\n",
      "[iteration 0270] loss: 1911.5742\n",
      "[iteration 0280] loss: 1911.5745\n",
      "[iteration 0290] loss: 1911.5742\n",
      "[iteration 0300] loss: 1911.5742\n",
      "[iteration 0310] loss: 1911.5742\n",
      "[iteration 0320] loss: 1911.5742\n",
      "[iteration 0330] loss: 1911.5742\n",
      "[iteration 0340] loss: 1911.5742\n",
      "[iteration 0350] loss: 1911.5742\n",
      "[iteration 0360] loss: 1911.5742\n",
      "[iteration 0370] loss: 1911.5742\n",
      "[iteration 0380] loss: 1911.5742\n",
      "[iteration 0390] loss: 1911.5742\n",
      "[iteration 0400] loss: 1911.5742\n",
      "[iteration 0410] loss: 1911.5742\n",
      "[iteration 0420] loss: 1911.5742\n",
      "[iteration 0430] loss: 1911.5742\n",
      "[iteration 0440] loss: 1911.5742\n",
      "[iteration 0450] loss: 1911.5742\n",
      "[iteration 0460] loss: 1911.5742\n",
      "[iteration 0470] loss: 1911.5742\n",
      "[iteration 0480] loss: 1911.5742\n",
      "[iteration 0490] loss: 1911.5742\n",
      "[iteration 0500] loss: 1911.5742\n",
      "Learned parameters:\n",
      "weight [[1.1867007]]\n",
      "bias [2.8667595]\n"
     ]
    }
   ],
   "source": [
    "#Data to regress\n",
    "# convert numpy.float64 types to float, then to tensor (x_data = Infered K values, Y_data = FYA values)\n",
    "x_data, y_data = torch.tensor(np.array(K).tolist()), torch.tensor(samples.F)\n",
    "x_data=x_data.resize_(1000,1)\n",
    "\n",
    "# Regression model\n",
    "linear_reg_model = PyroModule[nn.Linear](1, 1)\n",
    "\n",
    "# Define loss and optimize\n",
    "loss_fn = torch.nn.MSELoss(reduction='sum')\n",
    "optim = torch.optim.Adam(linear_reg_model.parameters(), lr=0.05)\n",
    "num_iterations = 500 \n",
    "\n",
    "def train():\n",
    "    # run the model forward on the data\n",
    "    y_pred = linear_reg_model(x_data).squeeze(-1)\n",
    "    # calculate the mse loss\n",
    "    loss = loss_fn(y_pred, y_data)\n",
    "    # initialize gradients to zero\n",
    "    optim.zero_grad()\n",
    "    # backpropagate\n",
    "    loss.backward()\n",
    "    # take a gradient step\n",
    "    optim.step()\n",
    "    return loss\n",
    "\n",
    "for j in range(num_iterations):\n",
    "    loss = train()\n",
    "    if (j + 1) % 10 == 0:\n",
    "        print(\"[iteration %04d] loss: %.4f\" % (j + 1, loss.item()))\n",
    "\n",
    "# Inspect learned parameters\n",
    "print(\"Learned parameters:\")\n",
    "for name, param in linear_reg_model.named_parameters():\n",
    "    print(name, param.data.numpy())"
   ]
  },
  {
   "cell_type": "code",
   "execution_count": 79,
   "metadata": {},
   "outputs": [
    {
     "data": {
      "text/plain": [
       "<matplotlib.legend.Legend at 0x1a30f10710>"
      ]
     },
     "execution_count": 79,
     "metadata": {},
     "output_type": "execute_result"
    },
    {
     "data": {
      "image/png": "[encoded data removed]",
      "text/plain": [
       "<Figure size 864x432 with 2 Axes>"
      ]
     },
     "metadata": {
      "needs_background": "light"
     },
     "output_type": "display_data"
    }
   ],
   "source": [
    "fit = samples.copy()\n",
    "fit[\"mean\"] = linear_reg_model(x_data).detach().numpy()\n",
    "\n",
    "S1 = fit[fit[\"S\"] == 1]\n",
    "S0 = fit[fit[\"S\"] == 0]\n",
    "R1 = fit[fit[\"R\"] == 1]\n",
    "R0 = fit[fit[\"R\"] == 0]\n",
    "\n",
    "fig, ax = plt.subplots(nrows=1, ncols=2, figsize=(12, 6), sharey=True)\n",
    "ax[0].hist(R1[\"mean\"], label='Race=1')\n",
    "ax[0].hist(R0[\"mean\"], label='Race=0')\n",
    "ax[0].legend()\n",
    "ax[1].hist(S1[\"mean\"], label='Sex=1')\n",
    "ax[1].hist(S0[\"mean\"], label='Sex=0')\n",
    "ax[1].legend()"
   ]
  }
 ],
 "metadata": {
  "kernelspec": {
   "display_name": "Python 3",
   "language": "python",
   "name": "python3"
  },
  "language_info": {
   "codemirror_mode": {
    "name": "ipython",
    "version": 3
   },
   "file_extension": ".py",
   "mimetype": "text/x-python",
   "name": "python",
   "nbconvert_exporter": "python",
   "pygments_lexer": "ipython3",
   "version": "3.7.7"
  }
 },
 "nbformat": 4,
 "nbformat_minor": 4
}
