{
 "cells": [
  {
   "cell_type": "markdown",
   "metadata": {},
   "source": [
    "# Counterfactual Fairness Replication\n",
    "### By Potluri, Kai, Mingfei, and Ollie\n",
    "#### Original Paper: Counterfactual Fairness by Kusner, Loftus, Russell, and Silva \n",
    "\n",
    "(https://arxiv.org/abs/1703.06856)\n",
    "\n",
    "\n",
    "There are many machine learning algorithms that can and do automate decisions for complex issues such as receiving a loan, insurance pricing, predictive policing, prison sentences, etc. This  paper, by Kusner, Loftus, Russell, and Silva, seeks to develop a way to address whether a prediction is fair using tools from causal inference. Through causal modeling we can see how and where this unfairness is happening. Because algorithms use observed data to make predictions, data that may contain historical bias, (ex. racially biased police stop and frisk policies sexist/racist/ageist hiring policies) they can often result in unfair policy decisions. \n",
    "\n",
    "To understand how to evaluate fairness we must define what it means. Below are a definitions presented by the authors: \n",
    "\n",
    "- **Fairness through unawareness** – an algorithm does not use any protected attributes. If we have observations of a person’s race or sex we just ignore that information\n",
    "\n",
    "- **Individual Fairness** – an algorithm gives similar predictions to similar individuals\n",
    "\n",
    "- **Demographic Parity** – an algorithm gives the same prediction no matter what the value of the given predictor is\n",
    "\n",
    "- **Equality of Opportunity** – an algorithm gives the same prediction given the outcome regardless of the protected attribute\n",
    "\n",
    "- **Counterfactual Fairness** – Had any individual been of a different race, sex, etc. the prediction would not change\n",
    "\n",
    "The authors believe that counterfactual fairness is the correct definition to use because we can make comparisons on an individual level. We are asking what would have happened if this same person was of a different race or sex.\n",
    "\n",
    "Below is a simple example from the paper to show how counterfactual awareness works. We are looking to predict the accident rate of an individual given we have observations on some protected attribute and the color of their car. See below for the complete model.\n",
    "\n",
    "- **A Protected Attribute** - any attribute that should not be discriminated \n",
    "- **X Observable attribute** – Red Car\n",
    "- **Y outcome of interest** – Accident Rate\n",
    "- **U latent variable** – Aggressive Driving\n",
    "\n",
    "\n",
    "![image alt ><](project_DAG_2.png)\n",
    "\n",
    "In this example, some group A is more likely than other groups to drive a red car but are not more likely to get into an accident. However, people who are more likely to be aggressive drivers like to drive red cars as well. We are explicitly modeling a discriminatory effect as a causal effect. If we were to predict who would have a high accident rate Y by using just X we would have a counterfactually unfair prediction because we know that individuals of the protected attribute like to drive red cars more than other groups even though they don’t get into more accidents.\n",
    "\n",
    "One of the main implications of counterfactual fairness is that a prediction will be counterfactually fair if it is a function of the non-descendants of A. In the example above we could not use the observable attribute red car to make a counterfactually fair prediction as any change in A would cause a change in the observed variable, red car. Instead we would want to try to infer the latent variable U.\n",
    "\n",
    "This is not an if and only if statement however, it is possible for a prediction to be counterfactually fair if it is a function of a descendent of the protected attribute A. However, this is only true though if the dependence of the prediction on the protected attribute disappears in the function.\n",
    "\n",
    "Another benefit of using causal inference to evaluate fairness is the ability to deal with historical bias. An example of this given in the paper is of whether a person defaults on a loan. A protected attribute may cause a person to default on a loan, but only through some past discrimination. The protected attribute for example may be mediated by employment which in turn is caused by the latent variable, prejudice. Prejudice could mean that the hiring process was unfair towards certain groups. This causes a person to be less likely to be employed and in turn increases the likelihood of default. Hence Y, a descendent of A, has historical discrimination and should not be used in the prediction of $\\hat{Y}$.\n",
    "\n",
    "We want to use variables that are not caused by A, the protected attribute, but are predictive of Y. Below is the algorithm given in the text.\n",
    "\n",
    "### Fair Learning Algorithm\n",
    "\n",
    "![](FairLearning Algorithm.png)\n",
    "\n",
    "Essentially what the algorithm is saying is, given the observed values of A and X, extract the values of the latent variable U and then use those values in the predictive model. \n",
    "\n",
    "There are three different levels of assumptions that make counterfactual fairness possible. The higher levels (3 being the highest) require stronger assumptions\n",
    "\n",
    "- Level 1 – Determine $\\hat{Y}$ from observable non-descendents of A\n",
    "- Level 2 – Determine $\\hat{Y}$ through some non-deterministic latent variable \n",
    "- Level 3 – Determine $\\hat{Y}$ through some deterministic latent variables (not discussed in great detail) \n",
    "\n",
    "The authors recommend always modeling the causal structure to reach the goal of counterfactual fairness. They state, “we are essentially learning a projection of T into the space of fair decisions, removing historical biases as a by-product ”. (p. 5) Modeling in this way does not always give the most accurate predictions, however this is not the goal of the procedure. The goal is to accurately model the real world including social bias's that may arise and to use causal modeling tools to address algorithmic unfariness. The following is another example of this in practice.\n",
    "\n",
    "## **Law School Success** \n",
    "\n",
    "![](project_dag.png)\n",
    "\n",
    "We have considered the example of law school success to implement the algorithms discussed\n",
    "in the paper. In this example, the law school wants candidates with good knowledge to succeed\n",
    "in the law program. However, knowledge is an unobserved variable. The challenge was to make\n",
    "sure the admissions process was fair to underprivileged groups. The college admissions panel\n",
    "doesn't use candidates' racial or gender identity in determining whether to admit them into the\n",
    "program or not. They'd only consider the undergraduate GPA and LSAT score to keep the\n",
    "process fair. However, the admissions panel's decision might get indirectly influenced by\n",
    "protected attributes like race and sex. Students from less privileged backgrounds may lack the\n",
    "economic opportunity to enroll in LSAT preparation courses. The classroom performance may\n",
    "not depend on knowledge alone but also be unduly affected by sensitive attributes that we do\n",
    "not want to use as a basis for admissions. In this project, we implemented concepts like fairness\n",
    "through unawareness and counterfactual fairness as discussed in the paper. We leveraged\n",
    "these concepts to identify historical bias while estimating knowledge. We built a structural\n",
    "causal model using the above DAG to generate samples. These samples are used in the\n",
    "Unaware and Full Model.\n",
    "\n",
    "### The Model\n",
    "\n",
    "We have constructed the SCM in Pyro using the above DAG. The probability assignments for\n",
    "the simulation are made up as there was no simulation specific information in the paper. Race,\n",
    "sex, and knowledge are considered exogenous variables. A probability of 0.75 and 0.5 are\n",
    "assigned for Race and Sex respectively. The knowledge is drawn from a standard normal\n",
    "distribution. Below you can find the equations that we have used to generate the synthetic data:\n",
    "We have generated 1000 samples from this SCM to use in the implemented models."
   ]
  },
  {
   "cell_type": "code",
   "execution_count": 105,
   "metadata": {},
   "outputs": [],
   "source": [
    "import os\n",
    "from functools import partial\n",
    "import torch\n",
    "import numpy as np\n",
    "import pandas as pd\n",
    "import seaborn as sns\n",
    "import matplotlib.pyplot as plt\n",
    "import pyro\n",
    "import pyro.distributions as dist\n",
    "from torch import nn\n",
    "import seaborn as sns\n",
    "from pyro.nn import PyroModule"
   ]
  },
  {
   "cell_type": "code",
   "execution_count": 106,
   "metadata": {},
   "outputs": [],
   "source": [
    "def GroundTruthModel():\n",
    "    exo_dist = {\n",
    "        'Nr': dist.Bernoulli(torch.tensor(0.75)),\n",
    "        'Ns': dist.Bernoulli(torch.tensor(0.5)),\n",
    "        'Nk': dist.Normal(torch.tensor(0.), torch.tensor(1.))\n",
    "    }\n",
    "    # sample from bernoulli 0 or 1, 0 at 75% freq (made up)\n",
    "    R = pyro.sample(\"R\", exo_dist['Nr'])\n",
    "    S = pyro.sample(\"S\", exo_dist['Ns'])\n",
    "    \n",
    "    # random gaussian dist for knowledge. This is the latent variable\n",
    "    K = pyro.sample(\"K\", exo_dist['Nk'])\n",
    "    \n",
    "    # PsuedoDelta \n",
    "    G = pyro.sample(\"G\", dist.Normal(K + 4.0 * R + 1.5 * S, 0.1))\n",
    "    \n",
    "    L = pyro.sample(\"L\", dist.Normal(K + 6.0*R + 0.5*S, 0.1))\n",
    "    \n",
    "    F = pyro.sample(\"F\", dist.Normal(K + 3.0*R + 2.0*S, 0.1))\n",
    "\n",
    "trace_handler = pyro.poutine.trace(GroundTruthModel)\n",
    "samples = pd.DataFrame(columns=['R', 'S', 'K', 'G', 'L', 'F', 'p'])"
   ]
  },
  {
   "cell_type": "markdown",
   "metadata": {},
   "source": [
    "## Unaware Model\n",
    "\n",
    "An algorithm is fair so long as any protected attributes, in our example, Race and Sex, are not\n",
    "explicitly used in the decision-making process. However, it has a clear shortcoming as elements\n",
    "of X can contain discriminatory information analogous to protected attributes that may not be\n",
    "obvious at first. To replicate this model, we have considered only the attributes GPA and LSAT.\n",
    "This is the same model used initially by the law school assuming a fair admission policy. The\n",
    "First year average(F) is predicted using the GPA(G) and LSAT(L). From the DAG, we can\n",
    "understand that it is indirectly biased because of the Race(R) and Sex(S) and hence also\n",
    "affecting the First year average(F)."
   ]
  },
  {
   "cell_type": "code",
   "execution_count": 107,
   "metadata": {},
   "outputs": [
    {
     "data": {
      "text/html": [
       "<div>\n",
       "<style scoped>\n",
       "    .dataframe tbody tr th:only-of-type {\n",
       "        vertical-align: middle;\n",
       "    }\n",
       "\n",
       "    .dataframe tbody tr th {\n",
       "        vertical-align: top;\n",
       "    }\n",
       "\n",
       "    .dataframe thead th {\n",
       "        text-align: right;\n",
       "    }\n",
       "</style>\n",
       "<table border=\"1\" class=\"dataframe\">\n",
       "  <thead>\n",
       "    <tr style=\"text-align: right;\">\n",
       "      <th></th>\n",
       "      <th>R</th>\n",
       "      <th>S</th>\n",
       "      <th>K</th>\n",
       "      <th>G</th>\n",
       "      <th>L</th>\n",
       "      <th>F</th>\n",
       "      <th>p</th>\n",
       "    </tr>\n",
       "  </thead>\n",
       "  <tbody>\n",
       "    <tr>\n",
       "      <th>0</th>\n",
       "      <td>tensor(1.)</td>\n",
       "      <td>tensor(1.)</td>\n",
       "      <td>tensor(-1.8349)</td>\n",
       "      <td>tensor(3.4436)</td>\n",
       "      <td>tensor(4.6694)</td>\n",
       "      <td>tensor(3.2975)</td>\n",
       "      <td>tensor(0.0631)</td>\n",
       "    </tr>\n",
       "    <tr>\n",
       "      <th>1</th>\n",
       "      <td>tensor(1.)</td>\n",
       "      <td>tensor(1.)</td>\n",
       "      <td>tensor(0.2222)</td>\n",
       "      <td>tensor(5.7799)</td>\n",
       "      <td>tensor(6.5458)</td>\n",
       "      <td>tensor(5.2448)</td>\n",
       "      <td>tensor(1.6143)</td>\n",
       "    </tr>\n",
       "    <tr>\n",
       "      <th>2</th>\n",
       "      <td>tensor(1.)</td>\n",
       "      <td>tensor(1.)</td>\n",
       "      <td>tensor(0.8138)</td>\n",
       "      <td>tensor(6.3525)</td>\n",
       "      <td>tensor(7.3679)</td>\n",
       "      <td>tensor(5.8802)</td>\n",
       "      <td>tensor(4.3821)</td>\n",
       "    </tr>\n",
       "    <tr>\n",
       "      <th>3</th>\n",
       "      <td>tensor(1.)</td>\n",
       "      <td>tensor(1.)</td>\n",
       "      <td>tensor(0.5848)</td>\n",
       "      <td>tensor(6.1063)</td>\n",
       "      <td>tensor(7.0439)</td>\n",
       "      <td>tensor(5.5682)</td>\n",
       "      <td>tensor(7.0965)</td>\n",
       "    </tr>\n",
       "    <tr>\n",
       "      <th>4</th>\n",
       "      <td>tensor(1.)</td>\n",
       "      <td>tensor(0.)</td>\n",
       "      <td>tensor(0.2424)</td>\n",
       "      <td>tensor(4.3286)</td>\n",
       "      <td>tensor(6.2497)</td>\n",
       "      <td>tensor(3.3772)</td>\n",
       "      <td>tensor(2.5570)</td>\n",
       "    </tr>\n",
       "  </tbody>\n",
       "</table>\n",
       "</div>"
      ],
      "text/plain": [
       "            R           S                K               G               L  \\\n",
       "0  tensor(1.)  tensor(1.)  tensor(-1.8349)  tensor(3.4436)  tensor(4.6694)   \n",
       "1  tensor(1.)  tensor(1.)   tensor(0.2222)  tensor(5.7799)  tensor(6.5458)   \n",
       "2  tensor(1.)  tensor(1.)   tensor(0.8138)  tensor(6.3525)  tensor(7.3679)   \n",
       "3  tensor(1.)  tensor(1.)   tensor(0.5848)  tensor(6.1063)  tensor(7.0439)   \n",
       "4  tensor(1.)  tensor(0.)   tensor(0.2424)  tensor(4.3286)  tensor(6.2497)   \n",
       "\n",
       "                F               p  \n",
       "0  tensor(3.2975)  tensor(0.0631)  \n",
       "1  tensor(5.2448)  tensor(1.6143)  \n",
       "2  tensor(5.8802)  tensor(4.3821)  \n",
       "3  tensor(5.5682)  tensor(7.0965)  \n",
       "4  tensor(3.3772)  tensor(2.5570)  "
      ]
     },
     "execution_count": 107,
     "metadata": {},
     "output_type": "execute_result"
    }
   ],
   "source": [
    "unaware_sample= []\n",
    "for i in range(1000):\n",
    "    trace = trace_handler.get_trace()\n",
    "    R = trace.nodes['R']['value']\n",
    "    S = trace.nodes['S']['value']\n",
    "    K = trace.nodes['K']['value']\n",
    "    G = trace.nodes['G']['value']\n",
    "    L = trace.nodes['L']['value']\n",
    "    F = trace.nodes['F']['value']\n",
    "    # get prob of each combination\n",
    "    log_prob = trace.log_prob_sum()\n",
    "    p = np.exp(log_prob)\n",
    "    samples = samples.append({'R': R, 'S': S, 'K': K, 'G': G, 'L':L, 'F': F,'p':p}, ignore_index=True)\n",
    "    unaware_sample.append(([G,L,F]))\n",
    "\n",
    "samples.head()"
   ]
  },
  {
   "cell_type": "markdown",
   "metadata": {},
   "source": [
    "We have then set up the Linear Regression in PyroModule to predict the first year average(F)\n",
    "from GPA and LSAT."
   ]
  },
  {
   "cell_type": "code",
   "execution_count": 108,
   "metadata": {},
   "outputs": [
    {
     "name": "stdout",
     "output_type": "stream",
     "text": [
      "Learned parameters:\n",
      "weight [[ 1.4223994 -0.4422539]]\n",
      "bias [0.01386643]\n"
     ]
    }
   ],
   "source": [
    "# for CI testing\n",
    "smoke_test = ('CI' in os.environ)\n",
    "pyro.enable_validation(True)\n",
    "pyro.set_rng_seed(1)\n",
    "pyro.enable_validation(True)\n",
    "\n",
    "# setup\n",
    "assert issubclass(PyroModule[nn.Linear], nn.Linear)\n",
    "assert issubclass(PyroModule[nn.Linear], PyroModule)\n",
    "\n",
    "#Data to regress\n",
    "unaware_sample = torch.tensor(unaware_sample)\n",
    "x_data, y_data = unaware_sample[:, :-1], unaware_sample[:, -1]\n",
    "\n",
    "# Regression model\n",
    "# 2 = in features, 1=out feature\n",
    "linear_reg_model = PyroModule[nn.Linear](2, 1)\n",
    "\n",
    "# Define loss and optimize\n",
    "loss_fn = torch.nn.MSELoss(reduction='sum')\n",
    "optim = torch.optim.Adam(linear_reg_model.parameters(), lr=0.05)\n",
    "num_iterations = 500 if not smoke_test else 2\n",
    "\n",
    "def train():\n",
    "    # run the model forward on the data\n",
    "    y_pred = linear_reg_model(x_data).squeeze(-1)\n",
    "    # calculate the mse loss\n",
    "    loss = loss_fn(y_pred, y_data)\n",
    "    # initialize gradients to zero\n",
    "    optim.zero_grad()\n",
    "    # backpropagate\n",
    "    loss.backward()\n",
    "    # take a gradient step\n",
    "    optim.step()\n",
    "    return loss\n",
    "\n",
    "for j in range(num_iterations):\n",
    "    loss = train()\n",
    "#    if (j + 1) % 10 == 0:\n",
    "#        print(\"[iteration %04d] loss: %.4f\" % (j + 1, loss.item()))\n",
    "\n",
    "# Inspect learned parameters\n",
    "print(\"Learned parameters:\")\n",
    "for name, param in linear_reg_model.named_parameters():\n",
    "    print(name, param.data.numpy())"
   ]
  },
  {
   "cell_type": "code",
   "execution_count": 109,
   "metadata": {},
   "outputs": [
    {
     "data": {
      "text/plain": [
       "<matplotlib.axes._subplots.AxesSubplot at 0x1a2ef46ed0>"
      ]
     },
     "execution_count": 109,
     "metadata": {},
     "output_type": "execute_result"
    },
    {
     "data": {
      "image/png": "[encoded data removed]",
      "text/plain": [
       "<Figure size 432x288 with 2 Axes>"
      ]
     },
     "metadata": {
      "needs_background": "light"
     },
     "output_type": "display_data"
    }
   ],
   "source": [
    "fit = samples.copy()\n",
    "fit[\"mean\"] = linear_reg_model(x_data).detach().numpy()\n",
    "\n",
    "S1 = fit[fit[\"S\"] == 1]\n",
    "S0 = fit[fit[\"S\"] == 0]\n",
    "R1 = fit[fit[\"R\"] == 1]\n",
    "R0 = fit[fit[\"R\"] == 0]\n",
    "\n",
    "#fig, ax = plt.subplots(nrows=1, ncols=2, figsize=(12, 6), sharey=True)\n",
    "f, (ax1, ax2) = plt.subplots(2)\n",
    "\n",
    "sns.kdeplot(R1[\"mean\"], ax=ax1,label='Race = 1')\n",
    "sns.kdeplot(R0[\"mean\"], ax=ax1,label='Race = 0')\n",
    "sns.kdeplot(S1[\"mean\"], ax=ax2,label='Sex = 1')\n",
    "sns.kdeplot(S0[\"mean\"], ax=ax2,label='Sex = 0')"
   ]
  },
  {
   "cell_type": "markdown",
   "metadata": {},
   "source": [
    "We can see above that we are getting different density plots when separated out by the protected attributes which as mentioned means that this is not a counterfactually fair algorithim"
   ]
  },
  {
   "cell_type": "markdown",
   "metadata": {},
   "source": [
    "## Full Model\n",
    "\n",
    "This model uses all the available observed variables in the model. We can later use this model\n",
    "to more accurately reconstruct FYA(F) as it uses race and sex. The paper notes that because it\n",
    "uses all the observed variables, this model achieves the highest accuracy, however it clearly is\n",
    "biased since it uses protected attributes race and sex directly in its decision making. The\n",
    "resulting density plots look similar to the unaware model as the full model is still making biased\n",
    "decisions, but much more openly in its training."
   ]
  },
  {
   "cell_type": "code",
   "execution_count": 110,
   "metadata": {},
   "outputs": [
    {
     "data": {
      "text/html": [
       "<div>\n",
       "<style scoped>\n",
       "    .dataframe tbody tr th:only-of-type {\n",
       "        vertical-align: middle;\n",
       "    }\n",
       "\n",
       "    .dataframe tbody tr th {\n",
       "        vertical-align: top;\n",
       "    }\n",
       "\n",
       "    .dataframe thead th {\n",
       "        text-align: right;\n",
       "    }\n",
       "</style>\n",
       "<table border=\"1\" class=\"dataframe\">\n",
       "  <thead>\n",
       "    <tr style=\"text-align: right;\">\n",
       "      <th></th>\n",
       "      <th>R</th>\n",
       "      <th>S</th>\n",
       "      <th>K</th>\n",
       "      <th>G</th>\n",
       "      <th>L</th>\n",
       "      <th>F</th>\n",
       "      <th>p</th>\n",
       "    </tr>\n",
       "  </thead>\n",
       "  <tbody>\n",
       "    <tr>\n",
       "      <th>0</th>\n",
       "      <td>tensor(1.)</td>\n",
       "      <td>tensor(1.)</td>\n",
       "      <td>tensor(-0.2148)</td>\n",
       "      <td>tensor(5.3011)</td>\n",
       "      <td>tensor(6.2191)</td>\n",
       "      <td>tensor(4.7810)</td>\n",
       "      <td>tensor(7.3578)</td>\n",
       "    </tr>\n",
       "    <tr>\n",
       "      <th>1</th>\n",
       "      <td>tensor(1.)</td>\n",
       "      <td>tensor(1.)</td>\n",
       "      <td>tensor(-1.8349)</td>\n",
       "      <td>tensor(3.4436)</td>\n",
       "      <td>tensor(4.6694)</td>\n",
       "      <td>tensor(3.2975)</td>\n",
       "      <td>tensor(0.0631)</td>\n",
       "    </tr>\n",
       "    <tr>\n",
       "      <th>2</th>\n",
       "      <td>tensor(1.)</td>\n",
       "      <td>tensor(1.)</td>\n",
       "      <td>tensor(0.2222)</td>\n",
       "      <td>tensor(5.7799)</td>\n",
       "      <td>tensor(6.5458)</td>\n",
       "      <td>tensor(5.2448)</td>\n",
       "      <td>tensor(1.6143)</td>\n",
       "    </tr>\n",
       "    <tr>\n",
       "      <th>3</th>\n",
       "      <td>tensor(1.)</td>\n",
       "      <td>tensor(1.)</td>\n",
       "      <td>tensor(0.8138)</td>\n",
       "      <td>tensor(6.3525)</td>\n",
       "      <td>tensor(7.3679)</td>\n",
       "      <td>tensor(5.8802)</td>\n",
       "      <td>tensor(4.3821)</td>\n",
       "    </tr>\n",
       "    <tr>\n",
       "      <th>4</th>\n",
       "      <td>tensor(1.)</td>\n",
       "      <td>tensor(1.)</td>\n",
       "      <td>tensor(0.5848)</td>\n",
       "      <td>tensor(6.1063)</td>\n",
       "      <td>tensor(7.0439)</td>\n",
       "      <td>tensor(5.5682)</td>\n",
       "      <td>tensor(7.0965)</td>\n",
       "    </tr>\n",
       "  </tbody>\n",
       "</table>\n",
       "</div>"
      ],
      "text/plain": [
       "            R           S                K               G               L  \\\n",
       "0  tensor(1.)  tensor(1.)  tensor(-0.2148)  tensor(5.3011)  tensor(6.2191)   \n",
       "1  tensor(1.)  tensor(1.)  tensor(-1.8349)  tensor(3.4436)  tensor(4.6694)   \n",
       "2  tensor(1.)  tensor(1.)   tensor(0.2222)  tensor(5.7799)  tensor(6.5458)   \n",
       "3  tensor(1.)  tensor(1.)   tensor(0.8138)  tensor(6.3525)  tensor(7.3679)   \n",
       "4  tensor(1.)  tensor(1.)   tensor(0.5848)  tensor(6.1063)  tensor(7.0439)   \n",
       "\n",
       "                F               p  \n",
       "0  tensor(4.7810)  tensor(7.3578)  \n",
       "1  tensor(3.2975)  tensor(0.0631)  \n",
       "2  tensor(5.2448)  tensor(1.6143)  \n",
       "3  tensor(5.8802)  tensor(4.3821)  \n",
       "4  tensor(5.5682)  tensor(7.0965)  "
      ]
     },
     "execution_count": 110,
     "metadata": {},
     "output_type": "execute_result"
    }
   ],
   "source": [
    "samples = pd.DataFrame(columns=['R', 'S', 'K', 'G', 'L', 'F', 'p'])\n",
    "full_sample= []\n",
    "for i in range(1000):\n",
    "    trace = trace_handler.get_trace()\n",
    "    R = trace.nodes['R']['value']\n",
    "    S = trace.nodes['S']['value']\n",
    "    K = trace.nodes['K']['value']\n",
    "    G = trace.nodes['G']['value']\n",
    "    L = trace.nodes['L']['value']\n",
    "    F = trace.nodes['F']['value']\n",
    "    # get prob of each combination\n",
    "    log_prob = trace.log_prob_sum()\n",
    "    p = np.exp(log_prob)\n",
    "    samples=samples.append({'R': R, 'S': S, 'K': K, 'G': G, 'L':L, 'F': F, 'p': p}, ignore_index=True)\n",
    "    full_sample.append(([R,S,G,L,F]))\n",
    "\n",
    "samples.head()"
   ]
  },
  {
   "cell_type": "markdown",
   "metadata": {},
   "source": [
    "We have similarly built the Linear Regression model to predict FYA(F) using race, sex, GPA\n",
    "and, LSAT."
   ]
  },
  {
   "cell_type": "code",
   "execution_count": 111,
   "metadata": {},
   "outputs": [
    {
     "name": "stdout",
     "output_type": "stream",
     "text": [
      "Learned parameters:\n",
      "weight [[-1.0575161   0.5752189   0.929824    0.05809528]]\n",
      "bias [-0.00880599]\n"
     ]
    }
   ],
   "source": [
    "#Data to regress\n",
    "full_sample = torch.tensor(full_sample)\n",
    "x_data, y_data = full_sample[:, :-1], full_sample[:, -1]\n",
    "\n",
    "# Regression model\n",
    "# 2 = in features, 1=out feature\n",
    "linear_reg_model = PyroModule[nn.Linear](4, 1)\n",
    "\n",
    "# Define loss and optimize\n",
    "loss_fn = torch.nn.MSELoss(reduction='sum')\n",
    "optim = torch.optim.Adam(linear_reg_model.parameters(), lr=0.05)\n",
    "num_iterations = 500 if not smoke_test else 2\n",
    "\n",
    "def train():\n",
    "    # run the model forward on the data\n",
    "    y_pred = linear_reg_model(x_data).squeeze(-1)\n",
    "    # calculate the mse loss\n",
    "    loss = loss_fn(y_pred, y_data)\n",
    "    # initialize gradients to zero\n",
    "    optim.zero_grad()\n",
    "    # backpropagate\n",
    "    loss.backward()\n",
    "    # take a gradient step\n",
    "    optim.step()\n",
    "    return loss\n",
    "\n",
    "for j in range(num_iterations):\n",
    "    loss = train()\n",
    "#    if (j + 1) % 10 == 0:\n",
    "#        print(\"[iteration %04d] loss: %.4f\" % (j + 1, loss.item()))\n",
    "\n",
    "# Inspect learned parameters\n",
    "print(\"Learned parameters:\")\n",
    "for name, param in linear_reg_model.named_parameters():\n",
    "    print(name, param.data.numpy())\n",
    "    "
   ]
  },
  {
   "cell_type": "code",
   "execution_count": 112,
   "metadata": {},
   "outputs": [
    {
     "data": {
      "text/plain": [
       "<matplotlib.axes._subplots.AxesSubplot at 0x1a2eda40d0>"
      ]
     },
     "execution_count": 112,
     "metadata": {},
     "output_type": "execute_result"
    },
    {
     "data": {
      "image/png": "[encoded data removed]",
      "text/plain": [
       "<Figure size 432x288 with 2 Axes>"
      ]
     },
     "metadata": {
      "needs_background": "light"
     },
     "output_type": "display_data"
    }
   ],
   "source": [
    "fit = samples.copy()\n",
    "fit[\"mean\"] = linear_reg_model(x_data).detach().numpy()\n",
    "\n",
    "S1 = fit[fit[\"S\"] == 1]\n",
    "S0 = fit[fit[\"S\"] == 0]\n",
    "R1 = fit[fit[\"R\"] == 1]\n",
    "R0 = fit[fit[\"R\"] == 0]\n",
    "\n",
    "f, (ax1, ax2) = plt.subplots(2)\n",
    "\n",
    "#plot Densities by race and sex\n",
    "sns.kdeplot(R1[\"mean\"], ax=ax1, label='Race = 1')\n",
    "sns.kdeplot(R0[\"mean\"], ax=ax1, label='Race = 0')\n",
    "sns.kdeplot(S1[\"mean\"], ax=ax2, label='Sex = 1')\n",
    "sns.kdeplot(S0[\"mean\"], ax=ax2, label='Sex = 0')"
   ]
  },
  {
   "cell_type": "markdown",
   "metadata": {},
   "source": [
    "Once again we see that the density plots, when separated out by the protected attributes are non-overlapping"
   ]
  },
  {
   "cell_type": "markdown",
   "metadata": {},
   "source": [
    "## Inferring K\n",
    "\n",
    "In this model, we infer K(as it is unobserved) and use that to predict FYA(F) instead of relying\n",
    "on the protected attributes race(R) and sex(S) which are parents of GPA(G) and LSAT(L). To\n",
    "achieve this, we have first trained on all features including race and sex and then infer\n",
    "Knowledge(K) which is later used to predict FYA(F). While the model’s accuracy is not as high\n",
    "as the other models, looking at the density plots this model is not biased against race and sex."
   ]
  },
  {
   "cell_type": "code",
   "execution_count": 113,
   "metadata": {},
   "outputs": [
    {
     "data": {
      "text/html": [
       "<div>\n",
       "<style scoped>\n",
       "    .dataframe tbody tr th:only-of-type {\n",
       "        vertical-align: middle;\n",
       "    }\n",
       "\n",
       "    .dataframe tbody tr th {\n",
       "        vertical-align: top;\n",
       "    }\n",
       "\n",
       "    .dataframe thead th {\n",
       "        text-align: right;\n",
       "    }\n",
       "</style>\n",
       "<table border=\"1\" class=\"dataframe\">\n",
       "  <thead>\n",
       "    <tr style=\"text-align: right;\">\n",
       "      <th></th>\n",
       "      <th>R</th>\n",
       "      <th>S</th>\n",
       "      <th>K</th>\n",
       "      <th>G</th>\n",
       "      <th>L</th>\n",
       "      <th>F</th>\n",
       "      <th>p</th>\n",
       "    </tr>\n",
       "  </thead>\n",
       "  <tbody>\n",
       "    <tr>\n",
       "      <th>0</th>\n",
       "      <td>tensor(1.)</td>\n",
       "      <td>tensor(0.)</td>\n",
       "      <td>tensor(-1.4274)</td>\n",
       "      <td>tensor(2.4294)</td>\n",
       "      <td>tensor(4.5212)</td>\n",
       "      <td>tensor(1.5394)</td>\n",
       "      <td>NaN</td>\n",
       "    </tr>\n",
       "    <tr>\n",
       "      <th>1</th>\n",
       "      <td>tensor(0.)</td>\n",
       "      <td>tensor(1.)</td>\n",
       "      <td>tensor(0.1284)</td>\n",
       "      <td>tensor(1.6254)</td>\n",
       "      <td>tensor(0.6364)</td>\n",
       "      <td>tensor(2.0925)</td>\n",
       "      <td>NaN</td>\n",
       "    </tr>\n",
       "    <tr>\n",
       "      <th>2</th>\n",
       "      <td>tensor(1.)</td>\n",
       "      <td>tensor(0.)</td>\n",
       "      <td>tensor(-0.2036)</td>\n",
       "      <td>tensor(3.6938)</td>\n",
       "      <td>tensor(6.0384)</td>\n",
       "      <td>tensor(2.9031)</td>\n",
       "      <td>NaN</td>\n",
       "    </tr>\n",
       "    <tr>\n",
       "      <th>3</th>\n",
       "      <td>tensor(1.)</td>\n",
       "      <td>tensor(0.)</td>\n",
       "      <td>tensor(0.7527)</td>\n",
       "      <td>tensor(4.8110)</td>\n",
       "      <td>tensor(6.6845)</td>\n",
       "      <td>tensor(3.9012)</td>\n",
       "      <td>NaN</td>\n",
       "    </tr>\n",
       "    <tr>\n",
       "      <th>4</th>\n",
       "      <td>tensor(1.)</td>\n",
       "      <td>tensor(0.)</td>\n",
       "      <td>tensor(-0.8414)</td>\n",
       "      <td>tensor(3.1169)</td>\n",
       "      <td>tensor(5.1860)</td>\n",
       "      <td>tensor(2.0114)</td>\n",
       "      <td>NaN</td>\n",
       "    </tr>\n",
       "  </tbody>\n",
       "</table>\n",
       "</div>"
      ],
      "text/plain": [
       "            R           S                K               G               L  \\\n",
       "0  tensor(1.)  tensor(0.)  tensor(-1.4274)  tensor(2.4294)  tensor(4.5212)   \n",
       "1  tensor(0.)  tensor(1.)   tensor(0.1284)  tensor(1.6254)  tensor(0.6364)   \n",
       "2  tensor(1.)  tensor(0.)  tensor(-0.2036)  tensor(3.6938)  tensor(6.0384)   \n",
       "3  tensor(1.)  tensor(0.)   tensor(0.7527)  tensor(4.8110)  tensor(6.6845)   \n",
       "4  tensor(1.)  tensor(0.)  tensor(-0.8414)  tensor(3.1169)  tensor(5.1860)   \n",
       "\n",
       "                F    p  \n",
       "0  tensor(1.5394)  NaN  \n",
       "1  tensor(2.0925)  NaN  \n",
       "2  tensor(2.9031)  NaN  \n",
       "3  tensor(3.9012)  NaN  \n",
       "4  tensor(2.0114)  NaN  "
      ]
     },
     "execution_count": 113,
     "metadata": {},
     "output_type": "execute_result"
    }
   ],
   "source": [
    "samples = pd.DataFrame(columns=['R', 'S', 'K', 'G', 'L', 'F', 'p'])\n",
    "aware_sample= []\n",
    "for i in range(1000):\n",
    "    trace = trace_handler.get_trace()\n",
    "    R = trace.nodes['R']['value']\n",
    "    S = trace.nodes['S']['value']\n",
    "    K = trace.nodes['K']['value']\n",
    "    G = trace.nodes['G']['value']\n",
    "    L = trace.nodes['L']['value']\n",
    "    F = trace.nodes['F']['value']\n",
    "    # get prob of each combination\n",
    "    #log_prob = trace.log_prob_sum()\n",
    "    #p = np.exp(log_prob)\n",
    "    samples = samples.append({'R': R, 'S': S, 'K': K, 'G': G, 'L':L, 'F': F}, ignore_index=True)\n",
    "    aware_sample.append(([R,S,F]))\n",
    "\n",
    "samples.head()"
   ]
  },
  {
   "cell_type": "code",
   "execution_count": 114,
   "metadata": {},
   "outputs": [],
   "source": [
    "# assign the observed G and L\n",
    "G=samples.G\n",
    "L=samples.L"
   ]
  },
  {
   "cell_type": "markdown",
   "metadata": {},
   "source": [
    "Iterating through the generated samples to use the observed variables GPA and LSAT to infer\n",
    "samples for knowledge(K)"
   ]
  },
  {
   "cell_type": "code",
   "execution_count": 115,
   "metadata": {},
   "outputs": [],
   "source": [
    "# hold all K values\n",
    "K=[]\n",
    "# iterate through the 1000 samples of G/L and infer K\n",
    "for i in range(1000):\n",
    "        conditioned = pyro.condition(GroundTruthModel, data={\"G\": G[i], \"L\": L[i]})\n",
    "\n",
    "        # use pyro.infer.Importance\n",
    "        posterior = pyro.infer.Importance(conditioned, num_samples=10).run()\n",
    "        post_marginal = pyro.infer.EmpiricalMarginal(posterior, \"K\")\n",
    "        post_samples = [post_marginal().item() for _ in range(10)]\n",
    "        post_unique, post_counts = np.unique(post_samples, return_counts=True)\n",
    "        # calculate the mean of the inferred\n",
    "        mean = np.mean(post_samples)\n",
    "        K.append(mean)"
   ]
  },
  {
   "cell_type": "markdown",
   "metadata": {},
   "source": [
    "Distribution of the Inferred K and the generated K samples "
   ]
  },
  {
   "cell_type": "code",
   "execution_count": 116,
   "metadata": {},
   "outputs": [
    {
     "data": {
      "image/png": "[encoded data removed]",
      "text/plain": [
       "<Figure size 432x288 with 1 Axes>"
      ]
     },
     "metadata": {
      "needs_background": "light"
     },
     "output_type": "display_data"
    }
   ],
   "source": [
    "plt.hist(K)\n",
    "plt.xlim([-3, 4])\n",
    "plt.ylabel(\"Count\")\n",
    "plt.xlabel(\"Inferred K\")\n",
    "plt.show()"
   ]
  },
  {
   "cell_type": "code",
   "execution_count": 117,
   "metadata": {},
   "outputs": [
    {
     "data": {
      "image/png": "[encoded data removed]",
      "text/plain": [
       "<Figure size 432x288 with 1 Axes>"
      ]
     },
     "metadata": {
      "needs_background": "light"
     },
     "output_type": "display_data"
    }
   ],
   "source": [
    "plt.xlim([-3, 4])\n",
    "plt.hist([float(a) for a in samples.K])\n",
    "plt.ylabel(\"Count\")\n",
    "plt.xlabel(\"From calculated samples K\")\n",
    "plt.show()"
   ]
  },
  {
   "cell_type": "markdown",
   "metadata": {},
   "source": [
    "Comparison between some of the rows: \n",
    "\n",
    "You can see how closely the inferred K's managed to be to the \"actual\" K's (which we technically can never know)."
   ]
  },
  {
   "cell_type": "code",
   "execution_count": 118,
   "metadata": {},
   "outputs": [
    {
     "name": "stdout",
     "output_type": "stream",
     "text": [
      "tensor(4.8878) tensor(6.6825) tensor(0.6217) 0.5149993896484375\n",
      "tensor(-0.9373) tensor(-0.7439) tensor(-0.7648) -0.7824064493179321\n",
      "tensor(-1.9506) tensor(-1.8776) tensor(-1.8266) -0.6514434218406677\n",
      "tensor(5.9514) tensor(6.7783) tensor(0.3586) 0.24780139327049255\n"
     ]
    }
   ],
   "source": [
    "for i in range(5, 15, 3):\n",
    "    print(samples.G[i], samples.L[i], samples.K[i], K[i])"
   ]
  },
  {
   "cell_type": "markdown",
   "metadata": {},
   "source": [
    "Now use our new inferred K into the Linear Reg Model to predict F"
   ]
  },
  {
   "cell_type": "code",
   "execution_count": 119,
   "metadata": {},
   "outputs": [
    {
     "name": "stdout",
     "output_type": "stream",
     "text": [
      "Learned parameters:\n",
      "weight [[0.9040322]]\n",
      "bias [3.294763]\n"
     ]
    }
   ],
   "source": [
    "#Data to regress\n",
    "# convert numpy.float64 types to float, then to tensor (x_data = Infered K values, Y_data = FYA values)\n",
    "x_data, y_data = torch.tensor(np.array(K).tolist()), torch.tensor(samples.F)\n",
    "x_data=x_data.resize_(1000,1)\n",
    "\n",
    "# Regression model\n",
    "linear_reg_model = PyroModule[nn.Linear](1, 1)\n",
    "\n",
    "# Define loss and optimize\n",
    "loss_fn = torch.nn.MSELoss(reduction='sum')\n",
    "optim = torch.optim.Adam(linear_reg_model.parameters(), lr=0.05)\n",
    "num_iterations = 500 \n",
    "\n",
    "def train():\n",
    "    # run the model forward on the data\n",
    "    y_pred = linear_reg_model(x_data).squeeze(-1)\n",
    "    # calculate the mse loss\n",
    "    loss = loss_fn(y_pred, y_data)\n",
    "    # initialize gradients to zero\n",
    "    optim.zero_grad()\n",
    "    # backpropagate\n",
    "    loss.backward()\n",
    "    # take a gradient step\n",
    "    optim.step()\n",
    "    return loss\n",
    "\n",
    "for j in range(num_iterations):\n",
    "    loss = train()\n",
    "#    if (j + 1) % 10 == 0:\n",
    "#        print(\"[iteration %04d] loss: %.4f\" % (j + 1, loss.item()))\n",
    "\n",
    "# Inspect learned parameters\n",
    "print(\"Learned parameters:\")\n",
    "for name, param in linear_reg_model.named_parameters():\n",
    "    print(name, param.data.numpy())"
   ]
  },
  {
   "cell_type": "code",
   "execution_count": 120,
   "metadata": {},
   "outputs": [
    {
     "data": {
      "text/plain": [
       "<matplotlib.axes._subplots.AxesSubplot at 0x1a2e55e410>"
      ]
     },
     "execution_count": 120,
     "metadata": {},
     "output_type": "execute_result"
    },
    {
     "data": {
      "image/png": "[encoded data removed]",
      "text/plain": [
       "<Figure size 432x288 with 2 Axes>"
      ]
     },
     "metadata": {
      "needs_background": "light"
     },
     "output_type": "display_data"
    }
   ],
   "source": [
    "fit = samples.copy()\n",
    "fit[\"mean\"] = linear_reg_model(x_data).detach().numpy()\n",
    "\n",
    "S1 = fit[fit[\"S\"] == 1]\n",
    "S0 = fit[fit[\"S\"] == 0]\n",
    "R1 = fit[fit[\"R\"] == 1]\n",
    "R0 = fit[fit[\"R\"] == 0]\n",
    "\n",
    "f, (ax1, ax2) = plt.subplots(2)\n",
    "sns.kdeplot(R1[\"mean\"], ax=ax1,label='Race=1')\n",
    "sns.kdeplot(R0[\"mean\"], ax=ax1,label='Race=0')\n",
    "sns.kdeplot(S1[\"mean\"], ax=ax2,label='Sex=1')\n",
    "sns.kdeplot(S0[\"mean\"], ax=ax2,label='Sex=0')"
   ]
  },
  {
   "cell_type": "markdown",
   "metadata": {},
   "source": [
    "As we see from the above density plots, the predicitions separated out by the protected attributes Race and Sex are overlapping. This is expected under the counterfactual fairness algorithim created by the authors. Inferring the Latent variable K which is not a child of the protected attributes allowed us to make predictions that are counterfactually fair."
   ]
  },
  {
   "cell_type": "markdown",
   "metadata": {},
   "source": [
    "## Conculsions: \n",
    "\n",
    "After the previous implementation of the counterfactual fairness, we take the protected attributes\n",
    "into consideration, so we are able to take into account the different social biases that may arise\n",
    "towards individuals based on ethically sensitive attributes and compensate for these biases\n",
    "effectively. We share the authors beliefs that fairness should be regulated by explicitly modeling the causal structure of the world. Simply relying on probabilistic independence cannot meet the fair standard, it also cannot point out why and how unfairness is occurring. By implementing the previous counterfactual fairness models, we are able to provide practical solutions for solving a wide array of fairness modeling problems."
   ]
  }
 ],
 "metadata": {
  "kernelspec": {
   "display_name": "Python 3",
   "language": "python",
   "name": "python3"
  },
  "language_info": {
   "codemirror_mode": {
    "name": "ipython",
    "version": 3
   },
   "file_extension": ".py",
   "mimetype": "text/x-python",
   "name": "python",
   "nbconvert_exporter": "python",
   "pygments_lexer": "ipython3",
   "version": "3.7.7"
  }
 },
 "nbformat": 4,
 "nbformat_minor": 4
}
